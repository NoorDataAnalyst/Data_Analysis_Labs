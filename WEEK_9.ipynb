{
  "cells": [
    {
      "cell_type": "markdown",
      "metadata": {
        "id": "znnHl2SkRQXr"
      },
      "source": [
        "# Telco Customer Churn -\n",
        "### Business Data Analysis with Python\n",
        "\n",
        "This notebook covers data exploration, preprocessing, classification modeling, and evaluation using the Telco Customer Churn dataset."
      ],
      "id": "znnHl2SkRQXr"
    },
    {
      "cell_type": "markdown",
      "metadata": {
        "id": "Cwjl12W8RQXs"
      },
      "source": [
        "##  Data Exploration and Preprocessing\n",
        "\n",
        "We will load the dataset, explore the features, check for missing values, and prepare the data for modeling."
      ],
      "id": "Cwjl12W8RQXs"
    },
    {
      "cell_type": "code",
      "execution_count": null,
      "metadata": {
        "id": "NPinTHsaRQXt",
        "colab": {
          "base_uri": "https://localhost:8080/"
        },
        "outputId": "9686e548-d661-46c2-8537-9b26ffa0f697"
      },
      "outputs": [
        {
          "output_type": "stream",
          "name": "stdout",
          "text": [
            "Path to dataset files: /kaggle/input/telco-customer-churn\n",
            "   customerID  gender  SeniorCitizen Partner Dependents  tenure PhoneService  \\\n",
            "0  7590-VHVEG  Female              0     Yes         No       1           No   \n",
            "1  5575-GNVDE    Male              0      No         No      34          Yes   \n",
            "2  3668-QPYBK    Male              0      No         No       2          Yes   \n",
            "3  7795-CFOCW    Male              0      No         No      45           No   \n",
            "4  9237-HQITU  Female              0      No         No       2          Yes   \n",
            "\n",
            "      MultipleLines InternetService OnlineSecurity  ... DeviceProtection  \\\n",
            "0  No phone service             DSL             No  ...               No   \n",
            "1                No             DSL            Yes  ...              Yes   \n",
            "2                No             DSL            Yes  ...               No   \n",
            "3  No phone service             DSL            Yes  ...              Yes   \n",
            "4                No     Fiber optic             No  ...               No   \n",
            "\n",
            "  TechSupport StreamingTV StreamingMovies        Contract PaperlessBilling  \\\n",
            "0          No          No              No  Month-to-month              Yes   \n",
            "1          No          No              No        One year               No   \n",
            "2          No          No              No  Month-to-month              Yes   \n",
            "3         Yes          No              No        One year               No   \n",
            "4          No          No              No  Month-to-month              Yes   \n",
            "\n",
            "               PaymentMethod MonthlyCharges  TotalCharges Churn  \n",
            "0           Electronic check          29.85         29.85    No  \n",
            "1               Mailed check          56.95        1889.5    No  \n",
            "2               Mailed check          53.85        108.15   Yes  \n",
            "3  Bank transfer (automatic)          42.30       1840.75    No  \n",
            "4           Electronic check          70.70        151.65   Yes  \n",
            "\n",
            "[5 rows x 21 columns]\n"
          ]
        }
      ],
      "source": [
        "# Import required libraries\n",
        "import pandas as pd\n",
        "import numpy as np\n",
        "import matplotlib.pyplot as plt\n",
        "import seaborn as sns\n",
        "\n",
        "import kagglehub\n",
        "\n",
        "\n",
        "# Download latest version\n",
        "path = kagglehub.dataset_download(\"blastchar/telco-customer-churn\")\n",
        "\n",
        "print(\"Path to dataset files:\", path)\n",
        "# Load dataset\n",
        "\n",
        "df = pd.read_csv(\"/kaggle/input/telco-customer-churn/WA_Fn-UseC_-Telco-Customer-Churn.csv\")\n",
        "\n",
        "# Display first 5 rows\n",
        "print(df.head())\n",
        "\n"
      ],
      "id": "NPinTHsaRQXt"
    },
    {
      "cell_type": "code",
      "source": [
        "# Data info\n",
        "print(df.info())\n",
        "\n"
      ],
      "metadata": {
        "id": "_9IZZXzdRUSr",
        "colab": {
          "base_uri": "https://localhost:8080/"
        },
        "outputId": "e16ceffd-4a14-4843-c088-a9b93a5e6783"
      },
      "id": "_9IZZXzdRUSr",
      "execution_count": null,
      "outputs": [
        {
          "output_type": "stream",
          "name": "stdout",
          "text": [
            "<class 'pandas.core.frame.DataFrame'>\n",
            "RangeIndex: 7043 entries, 0 to 7042\n",
            "Data columns (total 21 columns):\n",
            " #   Column            Non-Null Count  Dtype  \n",
            "---  ------            --------------  -----  \n",
            " 0   customerID        7043 non-null   object \n",
            " 1   gender            7043 non-null   object \n",
            " 2   SeniorCitizen     7043 non-null   int64  \n",
            " 3   Partner           7043 non-null   object \n",
            " 4   Dependents        7043 non-null   object \n",
            " 5   tenure            7043 non-null   int64  \n",
            " 6   PhoneService      7043 non-null   object \n",
            " 7   MultipleLines     7043 non-null   object \n",
            " 8   InternetService   7043 non-null   object \n",
            " 9   OnlineSecurity    7043 non-null   object \n",
            " 10  OnlineBackup      7043 non-null   object \n",
            " 11  DeviceProtection  7043 non-null   object \n",
            " 12  TechSupport       7043 non-null   object \n",
            " 13  StreamingTV       7043 non-null   object \n",
            " 14  StreamingMovies   7043 non-null   object \n",
            " 15  Contract          7043 non-null   object \n",
            " 16  PaperlessBilling  7043 non-null   object \n",
            " 17  PaymentMethod     7043 non-null   object \n",
            " 18  MonthlyCharges    7043 non-null   float64\n",
            " 19  TotalCharges      7043 non-null   object \n",
            " 20  Churn             7043 non-null   object \n",
            "dtypes: float64(1), int64(2), object(18)\n",
            "memory usage: 1.1+ MB\n",
            "None\n"
          ]
        }
      ]
    },
    {
      "cell_type": "code",
      "source": [
        "# Check missing values\n",
        "print(df.isnull().sum())\n",
        "\n"
      ],
      "metadata": {
        "id": "n0E39JCfTBTv",
        "colab": {
          "base_uri": "https://localhost:8080/"
        },
        "outputId": "6d7a0022-f52d-4370-f6c7-58806498d13c"
      },
      "id": "n0E39JCfTBTv",
      "execution_count": null,
      "outputs": [
        {
          "output_type": "stream",
          "name": "stdout",
          "text": [
            "customerID          0\n",
            "gender              0\n",
            "SeniorCitizen       0\n",
            "Partner             0\n",
            "Dependents          0\n",
            "tenure              0\n",
            "PhoneService        0\n",
            "MultipleLines       0\n",
            "InternetService     0\n",
            "OnlineSecurity      0\n",
            "OnlineBackup        0\n",
            "DeviceProtection    0\n",
            "TechSupport         0\n",
            "StreamingTV         0\n",
            "StreamingMovies     0\n",
            "Contract            0\n",
            "PaperlessBilling    0\n",
            "PaymentMethod       0\n",
            "MonthlyCharges      0\n",
            "TotalCharges        0\n",
            "Churn               0\n",
            "dtype: int64\n"
          ]
        }
      ]
    },
    {
      "cell_type": "code",
      "source": [
        "# Describe numeric columns\n",
        "print(df.describe())\n"
      ],
      "metadata": {
        "id": "z-LmMH5ZTEFB",
        "colab": {
          "base_uri": "https://localhost:8080/"
        },
        "outputId": "ff001711-c25b-4a33-dba2-c4e382344044"
      },
      "id": "z-LmMH5ZTEFB",
      "execution_count": null,
      "outputs": [
        {
          "output_type": "stream",
          "name": "stdout",
          "text": [
            "       SeniorCitizen       tenure  MonthlyCharges\n",
            "count    7043.000000  7043.000000     7043.000000\n",
            "mean        0.162147    32.371149       64.761692\n",
            "std         0.368612    24.559481       30.090047\n",
            "min         0.000000     0.000000       18.250000\n",
            "25%         0.000000     9.000000       35.500000\n",
            "50%         0.000000    29.000000       70.350000\n",
            "75%         0.000000    55.000000       89.850000\n",
            "max         1.000000    72.000000      118.750000\n"
          ]
        }
      ]
    },
    {
      "cell_type": "markdown",
      "source": [
        "#Before you move forward , carefully understand the descriptives, different columns and the data."
      ],
      "metadata": {
        "id": "SUvCuiFG3XLU"
      },
      "id": "SUvCuiFG3XLU"
    },
    {
      "cell_type": "code",
      "source": [
        "\n",
        "# Distribution of churn\n",
        "sns.countplot(x='Churn', data=df)\n",
        "plt.title('Distribution of Churn')\n",
        "plt.show()"
      ],
      "metadata": {
        "id": "8OsEko-nSvgr",
        "colab": {
          "base_uri": "https://localhost:8080/",
          "height": 472
        },
        "outputId": "ef90ecf3-246b-4a76-ba9a-a7ba5203953c"
      },
      "id": "8OsEko-nSvgr",
      "execution_count": null,
      "outputs": [
        {
          "output_type": "display_data",
          "data": {
            "text/plain": [
              "<Figure size 640x480 with 1 Axes>"
            ],
            "image/png": "[encoded data removed]"
          },
          "metadata": {}
        }
      ]
    },
    {
      "cell_type": "code",
      "source": [
        "#Write one to two lines of interpretation of the above Churn Chart\n",
        "\n"
      ],
      "metadata": {
        "id": "VLcsLZkl3unQ"
      },
      "id": "VLcsLZkl3unQ",
      "execution_count": null,
      "outputs": []
    },
    {
      "cell_type": "code",
      "execution_count": null,
      "metadata": {
        "id": "eqjD6S7vRQXt"
      },
      "outputs": [],
      "source": [
        "# Convert TotalCharges to numeric, coerce errors to NaN\n",
        "df['TotalCharges'] = pd.to_numeric(df['TotalCharges'], errors='coerce')\n",
        "\n",
        "#Converts the TotalCharges column to numeric type (floats).\n",
        "#If any values cannot be converted (e.g., empty strings or invalid text), they are set to NaN (errors='coerce').\n",
        "# Fill missing TotalCharges with median\n"
      ],
      "id": "eqjD6S7vRQXt"
    },
    {
      "cell_type": "code",
      "source": [
        "df['TotalCharges'].fillna(df['TotalCharges'].median(), inplace=True)\n",
        "\n"
      ],
      "metadata": {
        "id": "mlmpM1obgllu",
        "colab": {
          "base_uri": "https://localhost:8080/",
          "height": 339
        },
        "outputId": "771e2299-a48f-4b97-bf57-248d92304b5e"
      },
      "id": "mlmpM1obgllu",
      "execution_count": null,
      "outputs": [
        {
          "output_type": "error",
          "ename": "TypeError",
          "evalue": "Cannot convert ['29.85' '1889.5' '108.15' ... '346.45' '306.6' '6844.5'] to numeric",
          "traceback": [
            "\u001b[0;31m---------------------------------------------------------------------------\u001b[0m",
            "\u001b[0;31mTypeError\u001b[0m                                 Traceback (most recent call last)",
            "\u001b[0;32m<ipython-input-11-c7f777964452>\u001b[0m in \u001b[0;36m<cell line: 0>\u001b[0;34m()\u001b[0m\n\u001b[0;32m----> 1\u001b[0;31m \u001b[0mdf\u001b[0m\u001b[0;34m[\u001b[0m\u001b[0;34m'TotalCharges'\u001b[0m\u001b[0;34m]\u001b[0m\u001b[0;34m.\u001b[0m\u001b[0mfillna\u001b[0m\u001b[0;34m(\u001b[0m\u001b[0mdf\u001b[0m\u001b[0;34m[\u001b[0m\u001b[0;34m'TotalCharges'\u001b[0m\u001b[0;34m]\u001b[0m\u001b[0;34m.\u001b[0m\u001b[0mmedian\u001b[0m\u001b[0;34m(\u001b[0m\u001b[0;34m)\u001b[0m\u001b[0;34m,\u001b[0m \u001b[0minplace\u001b[0m\u001b[0;34m=\u001b[0m\u001b[0;32mTrue\u001b[0m\u001b[0;34m)\u001b[0m\u001b[0;34m\u001b[0m\u001b[0;34m\u001b[0m\u001b[0m\n\u001b[0m\u001b[1;32m      2\u001b[0m \u001b[0;34m\u001b[0m\u001b[0m\n",
            "\u001b[0;32m/usr/local/lib/python3.11/dist-packages/pandas/core/series.py\u001b[0m in \u001b[0;36mmedian\u001b[0;34m(self, axis, skipna, numeric_only, **kwargs)\u001b[0m\n\u001b[1;32m   6557\u001b[0m         \u001b[0;34m**\u001b[0m\u001b[0mkwargs\u001b[0m\u001b[0;34m,\u001b[0m\u001b[0;34m\u001b[0m\u001b[0;34m\u001b[0m\u001b[0m\n\u001b[1;32m   6558\u001b[0m     ):\n\u001b[0;32m-> 6559\u001b[0;31m         \u001b[0;32mreturn\u001b[0m \u001b[0mNDFrame\u001b[0m\u001b[0;34m.\u001b[0m\u001b[0mmedian\u001b[0m\u001b[0;34m(\u001b[0m\u001b[0mself\u001b[0m\u001b[0;34m,\u001b[0m \u001b[0maxis\u001b[0m\u001b[0;34m,\u001b[0m \u001b[0mskipna\u001b[0m\u001b[0;34m,\u001b[0m \u001b[0mnumeric_only\u001b[0m\u001b[0;34m,\u001b[0m \u001b[0;34m**\u001b[0m\u001b[0mkwargs\u001b[0m\u001b[0;34m)\u001b[0m\u001b[0;34m\u001b[0m\u001b[0;34m\u001b[0m\u001b[0m\n\u001b[0m\u001b[1;32m   6560\u001b[0m \u001b[0;34m\u001b[0m\u001b[0m\n\u001b[1;32m   6561\u001b[0m     \u001b[0;34m@\u001b[0m\u001b[0mdoc\u001b[0m\u001b[0;34m(\u001b[0m\u001b[0mmake_doc\u001b[0m\u001b[0;34m(\u001b[0m\u001b[0;34m\"sem\"\u001b[0m\u001b[0;34m,\u001b[0m \u001b[0mndim\u001b[0m\u001b[0;34m=\u001b[0m\u001b[0;36m1\u001b[0m\u001b[0;34m)\u001b[0m\u001b[0;34m)\u001b[0m\u001b[0;34m\u001b[0m\u001b[0;34m\u001b[0m\u001b[0m\n",
            "\u001b[0;32m/usr/local/lib/python3.11/dist-packages/pandas/core/generic.py\u001b[0m in \u001b[0;36mmedian\u001b[0;34m(self, axis, skipna, numeric_only, **kwargs)\u001b[0m\n\u001b[1;32m  12429\u001b[0m         \u001b[0;34m**\u001b[0m\u001b[0mkwargs\u001b[0m\u001b[0;34m,\u001b[0m\u001b[0;34m\u001b[0m\u001b[0;34m\u001b[0m\u001b[0m\n\u001b[1;32m  12430\u001b[0m     ) -> Series | float:\n\u001b[0;32m> 12431\u001b[0;31m         return self._stat_function(\n\u001b[0m\u001b[1;32m  12432\u001b[0m             \u001b[0;34m\"median\"\u001b[0m\u001b[0;34m,\u001b[0m \u001b[0mnanops\u001b[0m\u001b[0;34m.\u001b[0m\u001b[0mnanmedian\u001b[0m\u001b[0;34m,\u001b[0m \u001b[0maxis\u001b[0m\u001b[0;34m,\u001b[0m \u001b[0mskipna\u001b[0m\u001b[0;34m,\u001b[0m \u001b[0mnumeric_only\u001b[0m\u001b[0;34m,\u001b[0m \u001b[0;34m**\u001b[0m\u001b[0mkwargs\u001b[0m\u001b[0;34m\u001b[0m\u001b[0;34m\u001b[0m\u001b[0m\n\u001b[1;32m  12433\u001b[0m         )\n",
            "\u001b[0;32m/usr/local/lib/python3.11/dist-packages/pandas/core/generic.py\u001b[0m in \u001b[0;36m_stat_function\u001b[0;34m(self, name, func, axis, skipna, numeric_only, **kwargs)\u001b[0m\n\u001b[1;32m  12375\u001b[0m         \u001b[0mvalidate_bool_kwarg\u001b[0m\u001b[0;34m(\u001b[0m\u001b[0mskipna\u001b[0m\u001b[0;34m,\u001b[0m \u001b[0;34m\"skipna\"\u001b[0m\u001b[0;34m,\u001b[0m \u001b[0mnone_allowed\u001b[0m\u001b[0;34m=\u001b[0m\u001b[0;32mFalse\u001b[0m\u001b[0;34m)\u001b[0m\u001b[0;34m\u001b[0m\u001b[0;34m\u001b[0m\u001b[0m\n\u001b[1;32m  12376\u001b[0m \u001b[0;34m\u001b[0m\u001b[0m\n\u001b[0;32m> 12377\u001b[0;31m         return self._reduce(\n\u001b[0m\u001b[1;32m  12378\u001b[0m             \u001b[0mfunc\u001b[0m\u001b[0;34m,\u001b[0m \u001b[0mname\u001b[0m\u001b[0;34m=\u001b[0m\u001b[0mname\u001b[0m\u001b[0;34m,\u001b[0m \u001b[0maxis\u001b[0m\u001b[0;34m=\u001b[0m\u001b[0maxis\u001b[0m\u001b[0;34m,\u001b[0m \u001b[0mskipna\u001b[0m\u001b[0;34m=\u001b[0m\u001b[0mskipna\u001b[0m\u001b[0;34m,\u001b[0m \u001b[0mnumeric_only\u001b[0m\u001b[0;34m=\u001b[0m\u001b[0mnumeric_only\u001b[0m\u001b[0;34m\u001b[0m\u001b[0;34m\u001b[0m\u001b[0m\n\u001b[1;32m  12379\u001b[0m         )\n",
            "\u001b[0;32m/usr/local/lib/python3.11/dist-packages/pandas/core/series.py\u001b[0m in \u001b[0;36m_reduce\u001b[0;34m(self, op, name, axis, skipna, numeric_only, filter_type, **kwds)\u001b[0m\n\u001b[1;32m   6455\u001b[0m                     \u001b[0;34m\"with non-numeric dtypes.\"\u001b[0m\u001b[0;34m\u001b[0m\u001b[0;34m\u001b[0m\u001b[0m\n\u001b[1;32m   6456\u001b[0m                 )\n\u001b[0;32m-> 6457\u001b[0;31m             \u001b[0;32mreturn\u001b[0m \u001b[0mop\u001b[0m\u001b[0;34m(\u001b[0m\u001b[0mdelegate\u001b[0m\u001b[0;34m,\u001b[0m \u001b[0mskipna\u001b[0m\u001b[0;34m=\u001b[0m\u001b[0mskipna\u001b[0m\u001b[0;34m,\u001b[0m \u001b[0;34m**\u001b[0m\u001b[0mkwds\u001b[0m\u001b[0;34m)\u001b[0m\u001b[0;34m\u001b[0m\u001b[0;34m\u001b[0m\u001b[0m\n\u001b[0m\u001b[1;32m   6458\u001b[0m \u001b[0;34m\u001b[0m\u001b[0m\n\u001b[1;32m   6459\u001b[0m     \u001b[0;34m@\u001b[0m\u001b[0mAppender\u001b[0m\u001b[0;34m(\u001b[0m\u001b[0mmake_doc\u001b[0m\u001b[0;34m(\u001b[0m\u001b[0;34m\"any\"\u001b[0m\u001b[0;34m,\u001b[0m \u001b[0mndim\u001b[0m\u001b[0;34m=\u001b[0m\u001b[0;36m1\u001b[0m\u001b[0;34m)\u001b[0m\u001b[0;34m)\u001b[0m\u001b[0;34m\u001b[0m\u001b[0;34m\u001b[0m\u001b[0m\n",
            "\u001b[0;32m/usr/local/lib/python3.11/dist-packages/pandas/core/nanops.py\u001b[0m in \u001b[0;36mf\u001b[0;34m(values, axis, skipna, **kwds)\u001b[0m\n\u001b[1;32m    145\u001b[0m                     \u001b[0mresult\u001b[0m \u001b[0;34m=\u001b[0m \u001b[0malt\u001b[0m\u001b[0;34m(\u001b[0m\u001b[0mvalues\u001b[0m\u001b[0;34m,\u001b[0m \u001b[0maxis\u001b[0m\u001b[0;34m=\u001b[0m\u001b[0maxis\u001b[0m\u001b[0;34m,\u001b[0m \u001b[0mskipna\u001b[0m\u001b[0;34m=\u001b[0m\u001b[0mskipna\u001b[0m\u001b[0;34m,\u001b[0m \u001b[0;34m**\u001b[0m\u001b[0mkwds\u001b[0m\u001b[0;34m)\u001b[0m\u001b[0;34m\u001b[0m\u001b[0;34m\u001b[0m\u001b[0m\n\u001b[1;32m    146\u001b[0m             \u001b[0;32melse\u001b[0m\u001b[0;34m:\u001b[0m\u001b[0;34m\u001b[0m\u001b[0;34m\u001b[0m\u001b[0m\n\u001b[0;32m--> 147\u001b[0;31m                 \u001b[0mresult\u001b[0m \u001b[0;34m=\u001b[0m \u001b[0malt\u001b[0m\u001b[0;34m(\u001b[0m\u001b[0mvalues\u001b[0m\u001b[0;34m,\u001b[0m \u001b[0maxis\u001b[0m\u001b[0;34m=\u001b[0m\u001b[0maxis\u001b[0m\u001b[0;34m,\u001b[0m \u001b[0mskipna\u001b[0m\u001b[0;34m=\u001b[0m\u001b[0mskipna\u001b[0m\u001b[0;34m,\u001b[0m \u001b[0;34m**\u001b[0m\u001b[0mkwds\u001b[0m\u001b[0;34m)\u001b[0m\u001b[0;34m\u001b[0m\u001b[0;34m\u001b[0m\u001b[0m\n\u001b[0m\u001b[1;32m    148\u001b[0m \u001b[0;34m\u001b[0m\u001b[0m\n\u001b[1;32m    149\u001b[0m             \u001b[0;32mreturn\u001b[0m \u001b[0mresult\u001b[0m\u001b[0;34m\u001b[0m\u001b[0;34m\u001b[0m\u001b[0m\n",
            "\u001b[0;32m/usr/local/lib/python3.11/dist-packages/pandas/core/nanops.py\u001b[0m in \u001b[0;36mnanmedian\u001b[0;34m(values, axis, skipna, mask)\u001b[0m\n\u001b[1;32m    785\u001b[0m             \u001b[0minferred\u001b[0m \u001b[0;34m=\u001b[0m \u001b[0mlib\u001b[0m\u001b[0;34m.\u001b[0m\u001b[0minfer_dtype\u001b[0m\u001b[0;34m(\u001b[0m\u001b[0mvalues\u001b[0m\u001b[0;34m)\u001b[0m\u001b[0;34m\u001b[0m\u001b[0;34m\u001b[0m\u001b[0m\n\u001b[1;32m    786\u001b[0m             \u001b[0;32mif\u001b[0m \u001b[0minferred\u001b[0m \u001b[0;32min\u001b[0m \u001b[0;34m[\u001b[0m\u001b[0;34m\"string\"\u001b[0m\u001b[0;34m,\u001b[0m \u001b[0;34m\"mixed\"\u001b[0m\u001b[0;34m]\u001b[0m\u001b[0;34m:\u001b[0m\u001b[0;34m\u001b[0m\u001b[0;34m\u001b[0m\u001b[0m\n\u001b[0;32m--> 787\u001b[0;31m                 \u001b[0;32mraise\u001b[0m \u001b[0mTypeError\u001b[0m\u001b[0;34m(\u001b[0m\u001b[0;34mf\"Cannot convert {values} to numeric\"\u001b[0m\u001b[0;34m)\u001b[0m\u001b[0;34m\u001b[0m\u001b[0;34m\u001b[0m\u001b[0m\n\u001b[0m\u001b[1;32m    788\u001b[0m         \u001b[0;32mtry\u001b[0m\u001b[0;34m:\u001b[0m\u001b[0;34m\u001b[0m\u001b[0;34m\u001b[0m\u001b[0m\n\u001b[1;32m    789\u001b[0m             \u001b[0mvalues\u001b[0m \u001b[0;34m=\u001b[0m \u001b[0mvalues\u001b[0m\u001b[0;34m.\u001b[0m\u001b[0mastype\u001b[0m\u001b[0;34m(\u001b[0m\u001b[0;34m\"f8\"\u001b[0m\u001b[0;34m)\u001b[0m\u001b[0;34m\u001b[0m\u001b[0;34m\u001b[0m\u001b[0m\n",
            "\u001b[0;31mTypeError\u001b[0m: Cannot convert ['29.85' '1889.5' '108.15' ... '346.45' '306.6' '6844.5'] to numeric"
          ]
        }
      ]
    },
    {
      "cell_type": "code",
      "source": [
        "# Encode categorical variables\n",
        "from sklearn.preprocessing import LabelEncoder\n",
        "le = LabelEncoder()\n",
        "for col in df.select_dtypes(include='object').columns:\n",
        "    if col != 'customerID':  # exclude customerID\n",
        "        df[col] = le.fit_transform(df[col])\n",
        "#Imports LabelEncoder from scikit-learn to convert categorical text data into numeric labels.\n",
        "#Iterates over all columns with data type object (typically strings).\n",
        "#Skips the customerID column because it’s an identifier, not a feature.\n",
        "#Applies label encoding to each categorical column, converting each unique text value into a numeric code. This is necessary for most ML models that require numeric input.\n",
        "# Check the transformed dataframe\n",
        "print(df.head())"
      ],
      "metadata": {
        "id": "B0RTymrAgoIu",
        "colab": {
          "base_uri": "https://localhost:8080/"
        },
        "outputId": "5dcf74c0-9406-41ac-be8a-4a557aa1bd39"
      },
      "id": "B0RTymrAgoIu",
      "execution_count": null,
      "outputs": [
        {
          "output_type": "stream",
          "name": "stdout",
          "text": [
            "   customerID  gender  SeniorCitizen  Partner  Dependents  tenure  \\\n",
            "0  7590-VHVEG       0              0        1           0       1   \n",
            "1  5575-GNVDE       1              0        0           0      34   \n",
            "2  3668-QPYBK       1              0        0           0       2   \n",
            "3  7795-CFOCW       1              0        0           0      45   \n",
            "4  9237-HQITU       0              0        0           0       2   \n",
            "\n",
            "   PhoneService  MultipleLines  InternetService  OnlineSecurity  ...  \\\n",
            "0             0              1                0               0  ...   \n",
            "1             1              0                0               2  ...   \n",
            "2             1              0                0               2  ...   \n",
            "3             0              1                0               2  ...   \n",
            "4             1              0                1               0  ...   \n",
            "\n",
            "   DeviceProtection  TechSupport  StreamingTV  StreamingMovies  Contract  \\\n",
            "0                 0            0            0                0         0   \n",
            "1                 2            0            0                0         1   \n",
            "2                 0            0            0                0         0   \n",
            "3                 2            2            0                0         1   \n",
            "4                 0            0            0                0         0   \n",
            "\n",
            "   PaperlessBilling  PaymentMethod  MonthlyCharges  TotalCharges  Churn  \n",
            "0                 1              2           29.85         29.85      0  \n",
            "1                 0              3           56.95       1889.50      0  \n",
            "2                 1              3           53.85        108.15      1  \n",
            "3                 0              0           42.30       1840.75      0  \n",
            "4                 1              2           70.70        151.65      1  \n",
            "\n",
            "[5 rows x 21 columns]\n"
          ]
        }
      ]
    },
    {
      "cell_type": "markdown",
      "metadata": {
        "id": "YmVjZcK5RQXu"
      },
      "source": [
        "## Classification using Logistic Regression\n",
        "\n",
        "Train a logistic regression model to predict customer churn."
      ],
      "id": "YmVjZcK5RQXu"
    },
    {
      "cell_type": "code",
      "execution_count": null,
      "metadata": {
        "id": "eaO25jsKRQXu"
      },
      "outputs": [],
      "source": [
        "from sklearn.model_selection import train_test_split\n",
        "from sklearn.linear_model import LogisticRegression\n",
        "from sklearn.metrics import classification_report, confusion_matrix, accuracy_score\n",
        "\n"
      ],
      "id": "eaO25jsKRQXu"
    },
    {
      "cell_type": "markdown",
      "source": [
        "What is your understanding of Logistic regression? Write the answer in below box"
      ],
      "metadata": {
        "id": "vzOp5CUU3_MP"
      },
      "id": "vzOp5CUU3_MP"
    },
    {
      "cell_type": "code",
      "source": [
        "#What is logistic regression"
      ],
      "metadata": {
        "id": "HgRtbYyl4L67"
      },
      "id": "HgRtbYyl4L67",
      "execution_count": null,
      "outputs": []
    },
    {
      "cell_type": "code",
      "source": [
        "# Define features and target\n",
        "X = df.drop(['customerID', 'Churn'], axis=1)\n",
        "y = df['Churn']\n",
        "\n",
        "# X represents the features (independent variables) used for prediction in the machine learning model.\n",
        "# y represents the target variable (dependent variable) that the model aims to predict.\n",
        "\n",
        "\n"
      ],
      "metadata": {
        "id": "Y6_ugG8eixHi"
      },
      "id": "Y6_ugG8eixHi",
      "execution_count": null,
      "outputs": []
    },
    {
      "cell_type": "markdown",
      "source": [
        "#Why are we droping \"customerID and \"Churn\" ?"
      ],
      "metadata": {
        "id": "EG3C_mpJj4dz"
      },
      "id": "EG3C_mpJj4dz"
    },
    {
      "cell_type": "code",
      "source": [
        "\n",
        "# Split data into train and test\n",
        "X_train, X_test, y_train, y_test = train_test_split(X, y, test_size=0.2, random_state=42)\n",
        "#Here, 0.2 means 20% of the data will be set aside for testing the model’s performance after training.\n",
        "#random_state=42 , This parameter controls the randomness of the data splitting process to ensure reproducibility.\n",
        "#By setting a fixed number (like 42), every time you run the code, the train-test split will be exactly the same.\n",
        "#If not set, the split would be different each time, making results harder to reproduce.\n"
      ],
      "metadata": {
        "id": "N64tqC_QjyN6"
      },
      "id": "N64tqC_QjyN6",
      "execution_count": null,
      "outputs": []
    },
    {
      "cell_type": "code",
      "source": [
        "\n",
        "# Initialize logistic regression\n",
        "model = LogisticRegression(max_iter=1000)\n",
        "#max_iter=1000 means the logistic regression algorithm will try up to 1000 iterations to find the best-fit parameters before stopping.\n",
        "#model = LogisticRegression() prepares a logistic regression classifier that you can train on your data to predict binary (or multinomial) target outcomes based on input features.\n",
        "\n",
        "\n"
      ],
      "metadata": {
        "id": "va1VSP4MkHQB"
      },
      "id": "va1VSP4MkHQB",
      "execution_count": null,
      "outputs": []
    },
    {
      "cell_type": "code",
      "source": [
        "# Train the model\n",
        "model.fit(X_train, y_train)\n",
        "\n"
      ],
      "metadata": {
        "id": "hTBEqqxzkNKE",
        "colab": {
          "base_uri": "https://localhost:8080/",
          "height": 339
        },
        "outputId": "d9ada4a1-dbb7-416e-8054-3a92bb01aa8e"
      },
      "id": "hTBEqqxzkNKE",
      "execution_count": null,
      "outputs": [
        {
          "output_type": "error",
          "ename": "ValueError",
          "evalue": "could not convert string to float: 'Female'",
          "traceback": [
            "\u001b[0;31m---------------------------------------------------------------------------\u001b[0m",
            "\u001b[0;31mValueError\u001b[0m                                Traceback (most recent call last)",
            "\u001b[0;32m<ipython-input-10-014e10e280b4>\u001b[0m in \u001b[0;36m<cell line: 0>\u001b[0;34m()\u001b[0m\n\u001b[1;32m      1\u001b[0m \u001b[0;31m# Train the model\u001b[0m\u001b[0;34m\u001b[0m\u001b[0;34m\u001b[0m\u001b[0m\n\u001b[0;32m----> 2\u001b[0;31m \u001b[0mmodel\u001b[0m\u001b[0;34m.\u001b[0m\u001b[0mfit\u001b[0m\u001b[0;34m(\u001b[0m\u001b[0mX_train\u001b[0m\u001b[0;34m,\u001b[0m \u001b[0my_train\u001b[0m\u001b[0;34m)\u001b[0m\u001b[0;34m\u001b[0m\u001b[0;34m\u001b[0m\u001b[0m\n\u001b[0m\u001b[1;32m      3\u001b[0m \u001b[0;34m\u001b[0m\u001b[0m\n",
            "\u001b[0;32m/usr/local/lib/python3.11/dist-packages/sklearn/base.py\u001b[0m in \u001b[0;36mwrapper\u001b[0;34m(estimator, *args, **kwargs)\u001b[0m\n\u001b[1;32m   1387\u001b[0m                 )\n\u001b[1;32m   1388\u001b[0m             ):\n\u001b[0;32m-> 1389\u001b[0;31m                 \u001b[0;32mreturn\u001b[0m \u001b[0mfit_method\u001b[0m\u001b[0;34m(\u001b[0m\u001b[0mestimator\u001b[0m\u001b[0;34m,\u001b[0m \u001b[0;34m*\u001b[0m\u001b[0margs\u001b[0m\u001b[0;34m,\u001b[0m \u001b[0;34m**\u001b[0m\u001b[0mkwargs\u001b[0m\u001b[0;34m)\u001b[0m\u001b[0;34m\u001b[0m\u001b[0;34m\u001b[0m\u001b[0m\n\u001b[0m\u001b[1;32m   1390\u001b[0m \u001b[0;34m\u001b[0m\u001b[0m\n\u001b[1;32m   1391\u001b[0m         \u001b[0;32mreturn\u001b[0m \u001b[0mwrapper\u001b[0m\u001b[0;34m\u001b[0m\u001b[0;34m\u001b[0m\u001b[0m\n",
            "\u001b[0;32m/usr/local/lib/python3.11/dist-packages/sklearn/linear_model/_logistic.py\u001b[0m in \u001b[0;36mfit\u001b[0;34m(self, X, y, sample_weight)\u001b[0m\n\u001b[1;32m   1220\u001b[0m             \u001b[0m_dtype\u001b[0m \u001b[0;34m=\u001b[0m \u001b[0;34m[\u001b[0m\u001b[0mnp\u001b[0m\u001b[0;34m.\u001b[0m\u001b[0mfloat64\u001b[0m\u001b[0;34m,\u001b[0m \u001b[0mnp\u001b[0m\u001b[0;34m.\u001b[0m\u001b[0mfloat32\u001b[0m\u001b[0;34m]\u001b[0m\u001b[0;34m\u001b[0m\u001b[0;34m\u001b[0m\u001b[0m\n\u001b[1;32m   1221\u001b[0m \u001b[0;34m\u001b[0m\u001b[0m\n\u001b[0;32m-> 1222\u001b[0;31m         X, y = validate_data(\n\u001b[0m\u001b[1;32m   1223\u001b[0m             \u001b[0mself\u001b[0m\u001b[0;34m,\u001b[0m\u001b[0;34m\u001b[0m\u001b[0;34m\u001b[0m\u001b[0m\n\u001b[1;32m   1224\u001b[0m             \u001b[0mX\u001b[0m\u001b[0;34m,\u001b[0m\u001b[0;34m\u001b[0m\u001b[0;34m\u001b[0m\u001b[0m\n",
            "\u001b[0;32m/usr/local/lib/python3.11/dist-packages/sklearn/utils/validation.py\u001b[0m in \u001b[0;36mvalidate_data\u001b[0;34m(_estimator, X, y, reset, validate_separately, skip_check_array, **check_params)\u001b[0m\n\u001b[1;32m   2959\u001b[0m             \u001b[0my\u001b[0m \u001b[0;34m=\u001b[0m \u001b[0mcheck_array\u001b[0m\u001b[0;34m(\u001b[0m\u001b[0my\u001b[0m\u001b[0;34m,\u001b[0m \u001b[0minput_name\u001b[0m\u001b[0;34m=\u001b[0m\u001b[0;34m\"y\"\u001b[0m\u001b[0;34m,\u001b[0m \u001b[0;34m**\u001b[0m\u001b[0mcheck_y_params\u001b[0m\u001b[0;34m)\u001b[0m\u001b[0;34m\u001b[0m\u001b[0;34m\u001b[0m\u001b[0m\n\u001b[1;32m   2960\u001b[0m         \u001b[0;32melse\u001b[0m\u001b[0;34m:\u001b[0m\u001b[0;34m\u001b[0m\u001b[0;34m\u001b[0m\u001b[0m\n\u001b[0;32m-> 2961\u001b[0;31m             \u001b[0mX\u001b[0m\u001b[0;34m,\u001b[0m \u001b[0my\u001b[0m \u001b[0;34m=\u001b[0m \u001b[0mcheck_X_y\u001b[0m\u001b[0;34m(\u001b[0m\u001b[0mX\u001b[0m\u001b[0;34m,\u001b[0m \u001b[0my\u001b[0m\u001b[0;34m,\u001b[0m \u001b[0;34m**\u001b[0m\u001b[0mcheck_params\u001b[0m\u001b[0;34m)\u001b[0m\u001b[0;34m\u001b[0m\u001b[0;34m\u001b[0m\u001b[0m\n\u001b[0m\u001b[1;32m   2962\u001b[0m         \u001b[0mout\u001b[0m \u001b[0;34m=\u001b[0m \u001b[0mX\u001b[0m\u001b[0;34m,\u001b[0m \u001b[0my\u001b[0m\u001b[0;34m\u001b[0m\u001b[0;34m\u001b[0m\u001b[0m\n\u001b[1;32m   2963\u001b[0m \u001b[0;34m\u001b[0m\u001b[0m\n",
            "\u001b[0;32m/usr/local/lib/python3.11/dist-packages/sklearn/utils/validation.py\u001b[0m in \u001b[0;36mcheck_X_y\u001b[0;34m(X, y, accept_sparse, accept_large_sparse, dtype, order, copy, force_writeable, force_all_finite, ensure_all_finite, ensure_2d, allow_nd, multi_output, ensure_min_samples, ensure_min_features, y_numeric, estimator)\u001b[0m\n\u001b[1;32m   1368\u001b[0m     \u001b[0mensure_all_finite\u001b[0m \u001b[0;34m=\u001b[0m \u001b[0m_deprecate_force_all_finite\u001b[0m\u001b[0;34m(\u001b[0m\u001b[0mforce_all_finite\u001b[0m\u001b[0;34m,\u001b[0m \u001b[0mensure_all_finite\u001b[0m\u001b[0;34m)\u001b[0m\u001b[0;34m\u001b[0m\u001b[0;34m\u001b[0m\u001b[0m\n\u001b[1;32m   1369\u001b[0m \u001b[0;34m\u001b[0m\u001b[0m\n\u001b[0;32m-> 1370\u001b[0;31m     X = check_array(\n\u001b[0m\u001b[1;32m   1371\u001b[0m         \u001b[0mX\u001b[0m\u001b[0;34m,\u001b[0m\u001b[0;34m\u001b[0m\u001b[0;34m\u001b[0m\u001b[0m\n\u001b[1;32m   1372\u001b[0m         \u001b[0maccept_sparse\u001b[0m\u001b[0;34m=\u001b[0m\u001b[0maccept_sparse\u001b[0m\u001b[0;34m,\u001b[0m\u001b[0;34m\u001b[0m\u001b[0;34m\u001b[0m\u001b[0m\n",
            "\u001b[0;32m/usr/local/lib/python3.11/dist-packages/sklearn/utils/validation.py\u001b[0m in \u001b[0;36mcheck_array\u001b[0;34m(array, accept_sparse, accept_large_sparse, dtype, order, copy, force_writeable, force_all_finite, ensure_all_finite, ensure_non_negative, ensure_2d, allow_nd, ensure_min_samples, ensure_min_features, estimator, input_name)\u001b[0m\n\u001b[1;32m   1053\u001b[0m                     \u001b[0marray\u001b[0m \u001b[0;34m=\u001b[0m \u001b[0mxp\u001b[0m\u001b[0;34m.\u001b[0m\u001b[0mastype\u001b[0m\u001b[0;34m(\u001b[0m\u001b[0marray\u001b[0m\u001b[0;34m,\u001b[0m \u001b[0mdtype\u001b[0m\u001b[0;34m,\u001b[0m \u001b[0mcopy\u001b[0m\u001b[0;34m=\u001b[0m\u001b[0;32mFalse\u001b[0m\u001b[0;34m)\u001b[0m\u001b[0;34m\u001b[0m\u001b[0;34m\u001b[0m\u001b[0m\n\u001b[1;32m   1054\u001b[0m                 \u001b[0;32melse\u001b[0m\u001b[0;34m:\u001b[0m\u001b[0;34m\u001b[0m\u001b[0;34m\u001b[0m\u001b[0m\n\u001b[0;32m-> 1055\u001b[0;31m                     \u001b[0marray\u001b[0m \u001b[0;34m=\u001b[0m \u001b[0m_asarray_with_order\u001b[0m\u001b[0;34m(\u001b[0m\u001b[0marray\u001b[0m\u001b[0;34m,\u001b[0m \u001b[0morder\u001b[0m\u001b[0;34m=\u001b[0m\u001b[0morder\u001b[0m\u001b[0;34m,\u001b[0m \u001b[0mdtype\u001b[0m\u001b[0;34m=\u001b[0m\u001b[0mdtype\u001b[0m\u001b[0;34m,\u001b[0m \u001b[0mxp\u001b[0m\u001b[0;34m=\u001b[0m\u001b[0mxp\u001b[0m\u001b[0;34m)\u001b[0m\u001b[0;34m\u001b[0m\u001b[0;34m\u001b[0m\u001b[0m\n\u001b[0m\u001b[1;32m   1056\u001b[0m             \u001b[0;32mexcept\u001b[0m \u001b[0mComplexWarning\u001b[0m \u001b[0;32mas\u001b[0m \u001b[0mcomplex_warning\u001b[0m\u001b[0;34m:\u001b[0m\u001b[0;34m\u001b[0m\u001b[0;34m\u001b[0m\u001b[0m\n\u001b[1;32m   1057\u001b[0m                 raise ValueError(\n",
            "\u001b[0;32m/usr/local/lib/python3.11/dist-packages/sklearn/utils/_array_api.py\u001b[0m in \u001b[0;36m_asarray_with_order\u001b[0;34m(array, dtype, order, copy, xp, device)\u001b[0m\n\u001b[1;32m    837\u001b[0m             \u001b[0marray\u001b[0m \u001b[0;34m=\u001b[0m \u001b[0mnumpy\u001b[0m\u001b[0;34m.\u001b[0m\u001b[0marray\u001b[0m\u001b[0;34m(\u001b[0m\u001b[0marray\u001b[0m\u001b[0;34m,\u001b[0m \u001b[0morder\u001b[0m\u001b[0;34m=\u001b[0m\u001b[0morder\u001b[0m\u001b[0;34m,\u001b[0m \u001b[0mdtype\u001b[0m\u001b[0;34m=\u001b[0m\u001b[0mdtype\u001b[0m\u001b[0;34m)\u001b[0m\u001b[0;34m\u001b[0m\u001b[0;34m\u001b[0m\u001b[0m\n\u001b[1;32m    838\u001b[0m         \u001b[0;32melse\u001b[0m\u001b[0;34m:\u001b[0m\u001b[0;34m\u001b[0m\u001b[0;34m\u001b[0m\u001b[0m\n\u001b[0;32m--> 839\u001b[0;31m             \u001b[0marray\u001b[0m \u001b[0;34m=\u001b[0m \u001b[0mnumpy\u001b[0m\u001b[0;34m.\u001b[0m\u001b[0masarray\u001b[0m\u001b[0;34m(\u001b[0m\u001b[0marray\u001b[0m\u001b[0;34m,\u001b[0m \u001b[0morder\u001b[0m\u001b[0;34m=\u001b[0m\u001b[0morder\u001b[0m\u001b[0;34m,\u001b[0m \u001b[0mdtype\u001b[0m\u001b[0;34m=\u001b[0m\u001b[0mdtype\u001b[0m\u001b[0;34m)\u001b[0m\u001b[0;34m\u001b[0m\u001b[0;34m\u001b[0m\u001b[0m\n\u001b[0m\u001b[1;32m    840\u001b[0m \u001b[0;34m\u001b[0m\u001b[0m\n\u001b[1;32m    841\u001b[0m         \u001b[0;31m# At this point array is a NumPy ndarray. We convert it to an array\u001b[0m\u001b[0;34m\u001b[0m\u001b[0;34m\u001b[0m\u001b[0m\n",
            "\u001b[0;32m/usr/local/lib/python3.11/dist-packages/pandas/core/generic.py\u001b[0m in \u001b[0;36m__array__\u001b[0;34m(self, dtype, copy)\u001b[0m\n\u001b[1;32m   2151\u001b[0m     ) -> np.ndarray:\n\u001b[1;32m   2152\u001b[0m         \u001b[0mvalues\u001b[0m \u001b[0;34m=\u001b[0m \u001b[0mself\u001b[0m\u001b[0;34m.\u001b[0m\u001b[0m_values\u001b[0m\u001b[0;34m\u001b[0m\u001b[0;34m\u001b[0m\u001b[0m\n\u001b[0;32m-> 2153\u001b[0;31m         \u001b[0marr\u001b[0m \u001b[0;34m=\u001b[0m \u001b[0mnp\u001b[0m\u001b[0;34m.\u001b[0m\u001b[0masarray\u001b[0m\u001b[0;34m(\u001b[0m\u001b[0mvalues\u001b[0m\u001b[0;34m,\u001b[0m \u001b[0mdtype\u001b[0m\u001b[0;34m=\u001b[0m\u001b[0mdtype\u001b[0m\u001b[0;34m)\u001b[0m\u001b[0;34m\u001b[0m\u001b[0;34m\u001b[0m\u001b[0m\n\u001b[0m\u001b[1;32m   2154\u001b[0m         if (\n\u001b[1;32m   2155\u001b[0m             \u001b[0mastype_is_view\u001b[0m\u001b[0;34m(\u001b[0m\u001b[0mvalues\u001b[0m\u001b[0;34m.\u001b[0m\u001b[0mdtype\u001b[0m\u001b[0;34m,\u001b[0m \u001b[0marr\u001b[0m\u001b[0;34m.\u001b[0m\u001b[0mdtype\u001b[0m\u001b[0;34m)\u001b[0m\u001b[0;34m\u001b[0m\u001b[0;34m\u001b[0m\u001b[0m\n",
            "\u001b[0;31mValueError\u001b[0m: could not convert string to float: 'Female'"
          ]
        }
      ]
    },
    {
      "cell_type": "code",
      "source": [
        "# Predict on test\n",
        "y_pred = model.predict(X_test)\n",
        "\n"
      ],
      "metadata": {
        "id": "yVVpHuV4kXhw"
      },
      "id": "yVVpHuV4kXhw",
      "execution_count": null,
      "outputs": []
    },
    {
      "cell_type": "code",
      "source": [
        "# Evaluate model\n",
        "print('Accuracy:', accuracy_score(y_test, y_pred))"
      ],
      "metadata": {
        "id": "DdVXlx5ukZRu",
        "colab": {
          "base_uri": "https://localhost:8080/"
        },
        "outputId": "effa6234-54b0-4a39-aaf0-b695eea7ed47"
      },
      "id": "DdVXlx5ukZRu",
      "execution_count": null,
      "outputs": [
        {
          "output_type": "stream",
          "name": "stdout",
          "text": [
            "Accuracy: 0.8161816891412349\n"
          ]
        }
      ]
    },
    {
      "cell_type": "code",
      "source": [
        "print('\\nConfusion Matrix:\\n', confusion_matrix(y_test, y_pred))\n"
      ],
      "metadata": {
        "id": "467SxPVCmIZr",
        "colab": {
          "base_uri": "https://localhost:8080/"
        },
        "outputId": "883ab232-1bca-49b7-d8f9-94711ef0337d"
      },
      "id": "467SxPVCmIZr",
      "execution_count": null,
      "outputs": [
        {
          "output_type": "stream",
          "name": "stdout",
          "text": [
            "\n",
            "Confusion Matrix:\n",
            " [[935 101]\n",
            " [158 215]]\n"
          ]
        }
      ]
    },
    {
      "cell_type": "markdown",
      "source": [
        "|                         | **Predicted No Churn (0)** | **Predicted Churn (1)** |\n",
        "| ----------------------- | -------------------------- | ----------------------- |\n",
        "| **Actual No Churn (0)** | 938 (True Negatives)       | 98 (False Positives)    |\n",
        "| **Actual Churn (1)**    | 160 (False Negatives)      | 213 (True Positives)    |\n",
        "\n",
        "True Negatives (TN) = 938: Customers who did not churn and were correctly predicted as not churning.\n",
        "\n",
        "False Positives (FP) = 98: Customers who did not churn but were incorrectly predicted as churners (Type I error).\n",
        "\n",
        "False Negatives (FN) = 160: Customers who churned but were incorrectly predicted as not churning (Type II error).\n",
        "\n",
        "True Positives (TP) = 213: Customers who churned and were correctly predicted as churners.\n",
        "\n"
      ],
      "metadata": {
        "id": "RXeZ_rUqmiA2"
      },
      "id": "RXeZ_rUqmiA2"
    },
    {
      "cell_type": "code",
      "source": [
        "print('\\nClassification Report:\\n', classification_report(y_test, y_pred))"
      ],
      "metadata": {
        "id": "kjA9Mkl3mMsn",
        "colab": {
          "base_uri": "https://localhost:8080/"
        },
        "outputId": "85c7729c-44c4-4562-da45-d896edfdd7ce"
      },
      "id": "kjA9Mkl3mMsn",
      "execution_count": null,
      "outputs": [
        {
          "output_type": "stream",
          "name": "stdout",
          "text": [
            "\n",
            "Classification Report:\n",
            "               precision    recall  f1-score   support\n",
            "\n",
            "           0       0.86      0.90      0.88      1036\n",
            "           1       0.68      0.58      0.62       373\n",
            "\n",
            "    accuracy                           0.82      1409\n",
            "   macro avg       0.77      0.74      0.75      1409\n",
            "weighted avg       0.81      0.82      0.81      1409\n",
            "\n"
          ]
        }
      ]
    },
    {
      "cell_type": "markdown",
      "source": [
        "| Metric        | Meaning                                                    |\n",
        "| ------------- | ---------------------------------------------------------- |\n",
        "| **Precision** | **Out of all predicted positives, how many were correct**      |\n",
        "| **Recall**    | Out of all actual positives, how many were correctly found |\n",
        "| **F1-score**  | Harmonic mean of precision and recall (balance of both)    |\n",
        "| **Support**   | Number of actual occurrences of each class                 |\n"
      ],
      "metadata": {
        "id": "umU-S96Sn_Dg"
      },
      "id": "umU-S96Sn_Dg"
    },
    {
      "cell_type": "markdown",
      "source": [
        "##Class 0 (No churn):##\n",
        "Precision = 0.85: When the model predicts no churn, it’s correct 85% of the time.\n",
        "\n",
        "Recall = 0.91: It correctly identifies 91% of the actual no-churn customers.\n",
        "\n",
        "F1-score = 0.88: Good balance between precision and recall for no churn.\n",
        "\n",
        "Support = 1036: There are 1036 actual no-churn cases in the test set.\n"
      ],
      "metadata": {
        "id": "TqbBJ7wqokm7"
      },
      "id": "TqbBJ7wqokm7"
    },
    {
      "cell_type": "markdown",
      "source": [
        "##Class 1 (Churn):##\n",
        "Precision = 0.68: When the model predicts churn, it’s correct 68% of the time.\n",
        "\n",
        "Recall = 0.57: It correctly identifies 57% of the actual churners.\n",
        "\n",
        "F1-score = 0.62: Moderate balance for churn prediction, with recall being relatively low.\n",
        "\n",
        "Support = 373: There are 373 actual churn cases in the test set.\n",
        "\n",
        "##Overall Metrics:##\n",
        "Accuracy = 0.82: The model correctly predicts churn/no churn in 82% of the cases overall.\n",
        "\n",
        "Macro avg: Simple average across both classes (treats all classes equally).\n",
        "\n",
        "Weighted avg: Average weighted by support (class size), gives more weight to the majority class (no churn)."
      ],
      "metadata": {
        "id": "iWWzVeIwovdp"
      },
      "id": "iWWzVeIwovdp"
    },
    {
      "cell_type": "markdown",
      "source": [],
      "metadata": {
        "id": "XtKWddaZow4-"
      },
      "id": "XtKWddaZow4-"
    },
    {
      "cell_type": "markdown",
      "source": [
        "#Translating results into business implications##\n",
        "The model’s strong performance in identifying customers who do not churn helps maintain stable revenue by focusing retention efforts elsewhere. However, its lower recall for churners means many at-risk customers may go unnoticed, potentially leading to unexpected revenue loss. Improving churn detection is crucial for proactive customer retention strategies, reducing churn costs, and increasing long-term profitability. Balancing precision and recall will help allocate marketing resources efficiently and maximize customer lifetime value."
      ],
      "metadata": {
        "id": "5-J-O75WpVC6"
      },
      "id": "5-J-O75WpVC6"
    },
    {
      "cell_type": "markdown",
      "metadata": {
        "id": "23qztdPFRQXu"
      },
      "source": [
        "## Model Interpretation and Optional Clustering\n",
        "\n",
        "Explore feature importance via coefficients and optionally apply K-Means clustering."
      ],
      "id": "23qztdPFRQXu"
    },
    {
      "cell_type": "code",
      "execution_count": null,
      "metadata": {
        "id": "ywP-yrHrRQXv"
      },
      "outputs": [],
      "source": [
        "# Feature importance from logistic regression coefficients\n",
        "features = X.columns\n",
        "importance = model.coef_[0]\n",
        "\n",
        "for i,v in enumerate(importance):\n",
        "    print(f'Feature: {features[i]}, Importance: {v:.3f}')\n"
      ],
      "id": "ywP-yrHrRQXv"
    },
    {
      "cell_type": "markdown",
      "source": [
        "##Feature Importance Interpretation:##\n",
        "**Gender: -0.053**\n",
        "A small negative coefficient suggests that being male (or the encoded value representing male) slightly decreases the likelihood of churn compared to female, but the effect is minimal.\n",
        "\n",
        "**SeniorCitizen: 0.174**\n",
        "A positive coefficient indicates that senior citizens are more likely to churn than non-senior customers, with a moderate influence.\n",
        "\n",
        "**Partner: 0.070**\n",
        "Having a partner slightly increases the probability of churn, though the effect is relatively small.\n",
        "\n",
        "**Dependents: -0.201**\n",
        "A larger negative coefficient means customers with dependents are less likely to churn, indicating that family commitments may increase loyalty.\n",
        "\n",
        "**Tenure: -0.034**\n",
        "Negative coefficient implies that longer tenure (more months with the company) decreases churn likelihood, but the effect is small.\n",
        "\n",
        "**Summary**\n",
        "Positive values increase churn risk; negative values decrease it.\n",
        "\n",
        "Dependents and tenure reduce churn risk the most here.\n",
        "\n",
        "SeniorCitizen status is the strongest positive predictor of churn among these features."
      ],
      "metadata": {
        "id": "6JAEm_PD6d_9"
      },
      "id": "6JAEm_PD6d_9"
    },
    {
      "cell_type": "code",
      "source": [
        "from sklearn.preprocessing import LabelEncoder\n",
        "le = LabelEncoder()\n",
        "df['gender_encoded'] = le.fit_transform(df['gender'])\n",
        "print(dict(zip(le.classes_, le.transform(le.classes_))))\n",
        "print(df[['gender', 'gender_encoded']].head())\n"
      ],
      "metadata": {
        "id": "ECiX8hturuk5"
      },
      "id": "ECiX8hturuk5",
      "execution_count": null,
      "outputs": []
    },
    {
      "cell_type": "code",
      "source": [
        "\n",
        "# Optional: KMeans clustering\n",
        "from sklearn.cluster import KMeans\n",
        "from sklearn.preprocessing import StandardScaler\n"
      ],
      "metadata": {
        "id": "p5omGv1Wq-t9"
      },
      "id": "p5omGv1Wq-t9",
      "execution_count": null,
      "outputs": []
    },
    {
      "cell_type": "code",
      "source": [
        "# Standardize features\n",
        "scaler = StandardScaler()\n",
        "X_scaled = scaler.fit_transform(X)\n",
        "#It scales the features to have mean = 0 and standard deviation = 1.\n",
        "#Standardization is important before clustering to ensure all features contribute equally.\n",
        "\n",
        "\n",
        "\n"
      ],
      "metadata": {
        "id": "VcF20IG9s_JP"
      },
      "id": "VcF20IG9s_JP",
      "execution_count": null,
      "outputs": []
    },
    {
      "cell_type": "code",
      "source": [
        "# Fit KMeans\n",
        "kmeans = KMeans(n_clusters=3, random_state=42)\n",
        "clusters = kmeans.fit_predict(X_scaled)\n",
        "\n",
        "#The algorithm groups the data into 3 clusters based on similarity.\n",
        "#random_state=42 ensures reproducible results.\n",
        "#fit_predict() fits the model and assigns each data point to a cluster (0, 1, or 2).\n"
      ],
      "metadata": {
        "id": "YVou_90QuBHG"
      },
      "id": "YVou_90QuBHG",
      "execution_count": null,
      "outputs": []
    },
    {
      "cell_type": "code",
      "source": [
        "\n",
        "# Add cluster labels\n",
        "df['cluster'] = clusters\n",
        "\n",
        "#it adds Cluster Labels to DataFrame\n",
        "#Each customer is labeled with a cluster number, enabling further analysis or profiling."
      ],
      "metadata": {
        "id": "Mp5cqZBmtEuf"
      },
      "id": "Mp5cqZBmtEuf",
      "execution_count": null,
      "outputs": []
    },
    {
      "cell_type": "code",
      "source": [
        "# Plot clusters\n",
        "import matplotlib.pyplot as plt\n",
        "import seaborn as sns\n",
        "sns.countplot(x='cluster', data=df)\n",
        "plt.title('Distribution of K-Means Clusters')\n",
        "plt.show()"
      ],
      "metadata": {
        "id": "H5rv2OD7tIky"
      },
      "id": "H5rv2OD7tIky",
      "execution_count": null,
      "outputs": []
    },
    {
      "cell_type": "markdown",
      "source": [
        "#Business Interpretation#\n",
        "K-Means clustering segments customers into 3 distinct groups based on their attributes (e.g., demographics, services used).\n",
        "\n",
        "Understanding cluster sizes and characteristics can help tailor marketing, retention, or service strategies for each group.\n",
        "\n",
        "Clustering is unsupervised learning, so it finds natural groupings without using churn labels.\n",
        "\n"
      ],
      "metadata": {
        "id": "LyHe0rcKug0x"
      },
      "id": "LyHe0rcKug0x"
    },
    {
      "cell_type": "markdown",
      "source": [
        "##How do we know cluster membership?##\n"
      ],
      "metadata": {
        "id": "nZoLvLCRvAll"
      },
      "id": "nZoLvLCRvAll"
    },
    {
      "cell_type": "code",
      "source": [
        "#After clustering, each customer is assigned a cluster label (e.g., 0, 1, 2), stored in df['cluster'].\n",
        "#You can look up any customer’s cluster by checking this label.\n",
        "df[['customerID', 'cluster']].head()\n"
      ],
      "metadata": {
        "id": "_tltjsRAvIls"
      },
      "id": "_tltjsRAvIls",
      "execution_count": null,
      "outputs": []
    },
    {
      "cell_type": "markdown",
      "source": [
        "#Understanding clusters without pre-known labels#\n"
      ],
      "metadata": {
        "id": "hAC3LpthvX-N"
      },
      "id": "hAC3LpthvX-N"
    },
    {
      "cell_type": "code",
      "source": [
        "#Although K-Means doesn’t use the churn or any label in clustering,\n",
        "#it groups customers based on similarity across all features you provide (all columns in X).\n",
        "#To understand what defines each cluster, you:\n",
        "#Calculate summary statistics per cluster:\n",
        "df.groupby('cluster').mean()\n"
      ],
      "metadata": {
        "id": "gUr05i6uvd5C"
      },
      "id": "gUr05i6uvd5C",
      "execution_count": null,
      "outputs": []
    },
    {
      "cell_type": "code",
      "source": [
        "# Select all numeric columns from the dataframe\n",
        "numeric_cols = df.select_dtypes(include=np.number).columns.tolist()\n",
        "\n",
        "# Exclude 'customerID' from the columns to calculate mean because it is an identifier, not a numeric feature\n",
        "cols_to_mean = [col for col in numeric_cols if col != 'customerID']\n",
        "\n",
        "# Calculate and print the mean values of numeric features for each cluster group\n",
        "# Provide the 'cluster' column as a Series to groupby\n",
        "print(df[cols_to_mean].groupby(df['cluster']).mean())"
      ],
      "metadata": {
        "id": "sgKAwEPkwKYY"
      },
      "id": "sgKAwEPkwKYY",
      "execution_count": null,
      "outputs": []
    },
    {
      "cell_type": "markdown",
      "metadata": {
        "id": "xfi4XIH2RQXv"
      },
      "source": [
        "## Additional PCA Analysis\n",
        "In this section, we apply Principal Component Analysis (PCA) to reduce dimensionality and visualize the data.\n",
        "This helps to understand patterns and separability of churn classes in lower dimensions."
      ],
      "id": "xfi4XIH2RQXv"
    },
    {
      "cell_type": "code",
      "execution_count": null,
      "metadata": {
        "id": "lVzBcb17RQXv"
      },
      "outputs": [],
      "source": [
        "# Import PCA and StandardScaler\n",
        "from sklearn.decomposition import PCA\n",
        "from sklearn.preprocessing import StandardScaler\n",
        "import matplotlib.pyplot as plt\n",
        "import seaborn as sns\n",
        "\n"
      ],
      "id": "lVzBcb17RQXv"
    },
    {
      "cell_type": "code",
      "source": [
        "# Standardize features before PCA\n",
        "scaler = StandardScaler()\n",
        "X_scaled = scaler.fit_transform(X)\n",
        "\n",
        "# Apply PCA to reduce to 2 components\n",
        "pca = PCA(n_components=2, random_state=42)\n",
        "X_pca = pca.fit_transform(X_scaled)\n",
        "\n"
      ],
      "metadata": {
        "id": "E6PbB94LxuPH"
      },
      "id": "E6PbB94LxuPH",
      "execution_count": null,
      "outputs": []
    },
    {
      "cell_type": "code",
      "source": [
        "# Create a DataFrame with PCA components\n",
        "import pandas as pd\n",
        "pca_df = pd.DataFrame(data=X_pca, columns=['PC1', 'PC2'])\n",
        "pca_df['Churn'] = y.reset_index(drop=True)  # Add target for coloring\n",
        "\n",
        "# Plot PCA scatter plot\n",
        "plt.figure(figsize=(8,6))\n",
        "sns.scatterplot(x='PC1', y='PC2', hue='Churn', data=pca_df, palette='Set1')\n",
        "plt.title('PCA of Telco Customer Churn Dataset')\n",
        "plt.xlabel('Principal Component 1')\n",
        "plt.ylabel('Principal Component 2')\n",
        "plt.show()\n",
        "\n",
        "# Optional: PCA features can be used for clustering or further modeling"
      ],
      "metadata": {
        "id": "kJUMUWGaxwyU"
      },
      "id": "kJUMUWGaxwyU",
      "execution_count": null,
      "outputs": []
    },
    {
      "cell_type": "markdown",
      "metadata": {
        "id": "MrG9O1dcRQXv"
      },
      "source": [
        "### Additional Practice Suggestions:\n",
        "- Experiment with different classifiers such as Random Forest, Decision Tree, or SVM.\n",
        "- Tune hyperparameters using GridSearchCV.\n",
        "- Explore feature engineering and data balancing techniques.\n",
        "- Try clustering with different cluster numbers and analyze results.\n",
        "- Visualize relationships between features and churn."
      ],
      "id": "MrG9O1dcRQXv"
    }
  ],
  "metadata": {
    "kernelspec": {
      "display_name": "Python 3",
      "language": "python",
      "name": "python3"
    },
    "language_info": {
      "name": "python",
      "version": "3.9"
    },
    "colab": {
      "provenance": []
    }
  },
  "nbformat": 4,
  "nbformat_minor": 5
}