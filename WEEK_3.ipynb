{
  "nbformat": 4,
  "nbformat_minor": 0,
  "metadata": {
    "colab": {
      "provenance": []
    },
    "kernelspec": {
      "name": "python3",
      "display_name": "Python 3"
    },
    "language_info": {
      "name": "python"
    }
  },
  "cells": [
    {
      "cell_type": "markdown",
      "source": [
        "# **Do you Remember the First Step**\n",
        "Saving the file using Save a copy in Drive and Changing the name of your file. From \"Student Version Week4_Groupby_Cross_Tab\" to \"Tayyab_Week4_Groupby_Cross_Tab ( Tayyab is just a sample name, you should use your name."
      ],
      "metadata": {
        "id": "TnmSTWCKbi7Q"
      }
    },
    {
      "cell_type": "code",
      "execution_count": null,
      "metadata": {
        "id": "GV-kaL0flbVr"
      },
      "outputs": [],
      "source": [
        "# Week 4 Lab Activities - Data Analysis with Python\n",
        "\n",
        "import pandas as pd\n",
        "import numpy as np\n",
        "import seaborn as sns\n",
        "import matplotlib.pyplot as plt\n",
        "from scipy.stats import zscore\n",
        "from scipy.stats.mstats import winsorize\n",
        "\n"
      ]
    },
    {
      "cell_type": "code",
      "source": [
        "# Titanic Dataset Exploration and Analysis - Lab Activities\n",
        "\n",
        "# Introduction\n",
        "\n",
        "# Dataset Overview: The Titanic dataset contains information about passengers\n",
        "# who were aboard the Titanic when it sank in 1912. The dataset includes\n",
        "# details such as passenger class, age, sex, fare, and survival status.\n",
        "\n",
        "# Objectives:\n",
        "# - Explore the data using descriptive statistics and visualizations.\n",
        "# - Identify and handle missing values.\n",
        "# - Check for and remove duplicate data.\n",
        "# - Perform groupby operations and aggregation to analyze survival patterns.\n",
        "# - Use pivot tables for multi-dimensional analysis.\n",
        "# - Handle missing values in pivot tables.\n",
        "# - Apply cross-tabulation for categorical analysis.\n",
        "# - Analyze top survivors and other factors related to survival.\n",
        "\n"
      ],
      "metadata": {
        "id": "aJBoBXkhGRjV"
      },
      "execution_count": null,
      "outputs": []
    },
    {
      "cell_type": "markdown",
      "source": [
        "# **Question: What if we do not import pandas or numpy ?**"
      ],
      "metadata": {
        "id": "UePO_vclnDwd"
      }
    },
    {
      "cell_type": "code",
      "source": [
        "#Colab comes with pre-installed commonly used libraries. However we may have to insall certain functions"
      ],
      "metadata": {
        "id": "GpW8mIhIni8v"
      },
      "execution_count": null,
      "outputs": []
    },
    {
      "cell_type": "markdown",
      "source": [
        "# **You installed package using !pip. How long it is avaiable in the Colab**"
      ],
      "metadata": {
        "id": "P8BEkOUans3d"
      }
    },
    {
      "cell_type": "markdown",
      "source": [
        "# **Activity 1: Loading and inspecting data**\n",
        "\n",
        "---\n",
        "\n"
      ],
      "metadata": {
        "id": "qFvQxCdq_I_a"
      }
    },
    {
      "cell_type": "code",
      "source": [
        "\n",
        "\n",
        "\n",
        "# Load the dataset\n",
        "#Method1\n",
        "file_path = ()\n",
        "#titanic_df = pd.read_csv(file_path)\n",
        "\n",
        "\n",
        "\n",
        "# Method 2 Load the dataset\n",
        "titanic_df = pd.read_csv( )\n",
        "\n",
        "# Display first few rows\n",
        "\n",
        "\n",
        "\n",
        "# Display last few rows\n",
        "\n",
        "\n",
        "# Get the dimensions of the dataset\n",
        "\n",
        "\n",
        "# Get information about data types and missing values\n",
        "titanic_df.info()\n",
        "\n",
        "\n"
      ],
      "metadata": {
        "id": "NJzSypAGyqR0"
      },
      "execution_count": null,
      "outputs": []
    },
    {
      "cell_type": "code",
      "source": [
        "\n",
        "\n",
        "# Get summary statistics for numerical columns\n",
        "titanic_df.describe()\n",
        "\n",
        "# Get summary statistics for categorical columns\n",
        "titanic_df.describe(include=['object'])\n",
        "\n",
        "\n"
      ],
      "metadata": {
        "id": "oSPSUnOrAhQ-"
      },
      "execution_count": null,
      "outputs": []
    },
    {
      "cell_type": "markdown",
      "source": [
        "**Key Takeaways**\n",
        "Many passengers shared tickets and cabins, indicating group travel.\n",
        "Most passengers embarked from Southampton (S).\n",
        "There are a lot of missing values in the Cabin column (only 204 non-null values).\n",
        "Most passengers were male (577 out of 891)."
      ],
      "metadata": {
        "id": "XNU1zcZBHFkl"
      }
    },
    {
      "cell_type": "markdown",
      "source": [
        "#  Data set description\n",
        "  PassengerId   A unique identifier assigned to each passenger.\n",
        "  Survived Indicates whether the passenger survived (1) or not (0).\n",
        "  Pclass  The passenger's class (1 = First Class, 2 = Second Class, 3 = Third Class).\n",
        "  Name   The full name of the passenger.\n",
        "  Sex  The gender of the passenger (male or female).\n",
        "  Age   The age of the passenger. Some values are missing .\n",
        "  SibSp   The number of siblings and spouses the passenger had aboard the Titanic.\n",
        "  Parch   The number of parents and children the passenger had aboard the Titanic.\n",
        "  Ticket  The ticket number assigned to the passenger.\n",
        "  Fare   The fare amount paid by the passenger.\n",
        "  Cabin  The cabin number assigned to the passenger.\n",
        "  Embarked  The port where the passenger boarded the Titanic (C = Cherbourg, Q = Queenstown, S = Southampton)."
      ],
      "metadata": {
        "id": "VC0Nr_9zD35_"
      }
    },
    {
      "cell_type": "markdown",
      "source": [
        "# **Activity 2: Identifying and Handling Missing Values**\n",
        "\n",
        "---\n",
        "\n"
      ],
      "metadata": {
        "id": "bsc8ThGjEdsN"
      }
    },
    {
      "cell_type": "code",
      "source": [
        "# Activity 2: Identifying and Handling Missing Values\n",
        "\n",
        "# Count missing values per column\n",
        "\n"
      ],
      "metadata": {
        "id": "H6W6L7dYFQh2"
      },
      "execution_count": null,
      "outputs": []
    },
    {
      "cell_type": "code",
      "source": [
        "# Visualize missing data\n",
        "import missingno as msno\n",
        "msno.matrix(df)\n",
        "plt.show()\n"
      ],
      "metadata": {
        "id": "fZjUWGSXN4QU"
      },
      "execution_count": null,
      "outputs": []
    },
    {
      "cell_type": "code",
      "source": [
        "# Impute missing values for 'Age' with the median\n",
        "median_age = titanic_df['Age'].median()\n",
        "titanic_df['Age'].fillna(median_age, inplace=True)\n",
        "\n",
        "#The distribution of Age in the Titanic dataset is not perfectly normal;\n",
        "#it likely has a right skew due to outliers (e.g., very elderly passengers).\n",
        "#The mean is sensitive to outliers, meaning a few extremely high or low ages could pull the mean up or down,\n",
        "# making it less representative of the majority of passengers.\n",
        "#The median, being the middle value, is not affected by extreme values,\n",
        "# making it a better representation of central tendency in skewed data\n",
        "\n"
      ],
      "metadata": {
        "id": "01H6Y00tHYbn"
      },
      "execution_count": null,
      "outputs": []
    },
    {
      "cell_type": "code",
      "source": [
        "# Drop the 'Cabin' column due to many missing values\n",
        "titanic_df.drop('Cabin', axis=1, inplace=True)\n",
        "\n",
        "# Recheck for missing values\n",
        "titanic_df.isnull().sum()\n",
        "\n",
        "\n"
      ],
      "metadata": {
        "id": "zNAq5qmHIKKs"
      },
      "execution_count": null,
      "outputs": []
    },
    {
      "cell_type": "markdown",
      "source": [
        "**Why are we dropping column instead of filling it with mean or mode?**"
      ],
      "metadata": {
        "id": "BhbUEGsjIi67"
      }
    },
    {
      "cell_type": "code",
      "source": [
        "#1. Too Many Missing Values (~77%)\n",
        "#Since most of the values are missing, filling them with a single value (like \"Unknown\")\n",
        "# would not add much useful information to the dataset.\n",
        "#Imputing missing values with a median, mode, or predictive model would introduce\n",
        "# too much guesswork and potential bias.\n",
        "#2. Limited Predictive Value for Survival Analysis\n",
        "# While first-class passengers were more likely to have recorded cabins,\n",
        "#the actual cabin number may not strongly influence survival rates.\n",
        "#The Pclass column (Passenger Class) already provides a similar distinction (First Class, Second Class, Third Class).\n",
        "#3. High Cardinality and Complexity\n",
        "#The Cabin column contains a mix of numbers and letters, making it categorical and high-cardinality (many unique values).\n",
        "#Some passengers share cabins, but this information is not consistently recorded.\n",
        "#4. Data Cleaning Simplicity\n",
        "#Removing the Cabin column simplifies data preprocessing and improves model performance\n",
        "#by avoiding unnecessary complexity"
      ],
      "metadata": {
        "id": "sI7rjLBMIpa-"
      },
      "execution_count": null,
      "outputs": []
    },
    {
      "cell_type": "markdown",
      "source": [
        "# **Activity 3: Checking and Fixing Duplicates**\n",
        "\n",
        "---\n",
        "\n"
      ],
      "metadata": {
        "id": "h3oh0gY8JQmy"
      }
    },
    {
      "cell_type": "code",
      "source": [
        "# Activity 3: Checking and Fixing Duplicates\n",
        "\n",
        "titanic_df.shape  #check the shape before removing"
      ],
      "metadata": {
        "id": "Ceddq7QyXsul"
      },
      "execution_count": null,
      "outputs": []
    },
    {
      "cell_type": "code",
      "source": [
        "#Checking and Fixing Duplicates\n",
        "# Count duplicate rows\n",
        "titanic_df.duplicated().sum()\n",
        "\n"
      ],
      "metadata": {
        "id": "-Um-CWoNIQPU"
      },
      "execution_count": null,
      "outputs": []
    },
    {
      "cell_type": "code",
      "source": [
        "# Remove duplicate rows (if any)\n",
        "titanic_df.drop_duplicates(inplace=True)\n",
        "titanic_df.shape  # Check the shape after removal\n",
        "\n",
        "\n"
      ],
      "metadata": {
        "id": "6iYR-_RiJgqh"
      },
      "execution_count": null,
      "outputs": []
    },
    {
      "cell_type": "markdown",
      "source": [
        "# **Activity 4: GroupBy and Aggregation**\n",
        "\n",
        "---\n",
        "\n"
      ],
      "metadata": {
        "id": "yKCqn-nlJ4qR"
      }
    },
    {
      "cell_type": "code",
      "source": [
        "# Activity 4: GroupBy and Aggregation\n",
        "\n",
        "# Survival rate by gender\n",
        "survival_by_gender = titanic_df.groupby('Sex')['Survived'].mean()\n",
        "print(survival_by_gender)\n",
        "\n",
        "# Average age by passenger class\n",
        "avg_age_by_class = titanic_df.groupby('Pclass')['Age'].mean()\n",
        "print(avg_age_by_class)"
      ],
      "metadata": {
        "id": "i2a54DP1JlNU"
      },
      "execution_count": null,
      "outputs": []
    },
    {
      "cell_type": "markdown",
      "source": [
        "**How do you interpret above output**"
      ],
      "metadata": {
        "id": "c-COQP7cKq3V"
      }
    },
    {
      "cell_type": "code",
      "source": [
        "#Survival Rate by Sex: 74.2% of females survived, while only 18.9% of males survived,\n",
        "# indicating a strong survival advantage for women.\n",
        "#Average Age by Pclass: First-class passengers had the highest average age (38.2 years),\n",
        "# followed by second-class (29.9 years) and third-class (25.1 years),\n",
        "# suggesting older individuals were more likely in higher classes"
      ],
      "metadata": {
        "id": "iJ3HOxW4KuHO"
      },
      "execution_count": null,
      "outputs": []
    },
    {
      "cell_type": "markdown",
      "source": [
        "## **Student Challenge**"
      ],
      "metadata": {
        "id": "DlEdwZZQYmXL"
      }
    },
    {
      "cell_type": "code",
      "source": [
        "# prompt: Create a small activity as student challenge based on the previous code cells\n",
        "\n",
        "# Student Challenge: Data Exploration and Analysis\n",
        "\n",
        "# Instructions:\n",
        "# 1. Calculate the survival rate for each passenger class (Pclass).\n",
        "# 2. Find the average fare paid by passengers in each embarkation port (Embarked).\n",
        "#\n",
        "\n",
        "# Write your code here:\n",
        "\n",
        "\n",
        "\n",
        "# 1. Calculate survival rate for each passenger class\n",
        "\n",
        "\n",
        "# Print survival_rate_by_class\n",
        "\n",
        "\n",
        "# 2. Average fare by embarkation port\n",
        "average_fare_by_port =\n",
        "\n",
        "#print average_fare_by_port\n",
        "\n"
      ],
      "metadata": {
        "id": "sfCUVe1KX9dS"
      },
      "execution_count": null,
      "outputs": []
    },
    {
      "cell_type": "code",
      "source": [
        "\n",
        "\n",
        "# Multiple aggregations\n",
        "class_stats = titanic_df.groupby('Pclass').agg({'Age': ['mean', 'min', 'max'], 'Fare': ['mean']})\n",
        "print(class_stats)\n",
        "\n",
        "\n"
      ],
      "metadata": {
        "id": "lJXbPL9PKDek"
      },
      "execution_count": null,
      "outputs": []
    },
    {
      "cell_type": "code",
      "source": [
        "#interpretation\n",
        "#Age by Pclass: First-class passengers were the oldest on average (38.2 years), followed by second-class (29.9 years) and third-class (25.1 years), indicating older individuals tended to afford higher-class tickets.\n",
        "#Fare by Pclass: First-class passengers paid the highest average fare ($84.15), while second-class paid significantly less ($20.66) and third-class the least ($13.68), reflecting the cost difference between ticket classes"
      ],
      "metadata": {
        "id": "b2RX-nd7LV8B"
      },
      "execution_count": null,
      "outputs": []
    },
    {
      "cell_type": "markdown",
      "source": [
        "# ** Activity 5: Multi-Level Grouping and Pivot Tables\n",
        "---\n",
        "\n"
      ],
      "metadata": {
        "id": "ZF27xlnuLf_Y"
      }
    },
    {
      "cell_type": "code",
      "source": [
        "# Activity 5: Multi-Level Grouping and Pivot Tables\n",
        "\n",
        "# Survival by gender and class\n",
        "survival_by_gender_class = titanic_df.groupby(['Sex', 'Pclass'])['Survived'].mean()\n",
        "print(survival_by_gender_class)\n",
        "\n",
        "\n",
        "\n"
      ],
      "metadata": {
        "id": "nUKx8sjXK664"
      },
      "execution_count": null,
      "outputs": []
    },
    {
      "cell_type": "code",
      "source": [
        "\n",
        "# Pivot table - Average fare by class and embarked\n",
        "fare_pivot = titanic_df.pivot_table(index='Pclass', columns='Embarked', values='Fare', aggfunc='mean')\n",
        "print(fare_pivot)\n",
        "#index='Pclass' means that the Pclass (Passenger Class) column is used as the row labels (index) of the table.\n",
        "#This organizes the data so that each row corresponds to a different passenger class (1st, 2nd, or 3rd class)."
      ],
      "metadata": {
        "id": "9mO31dzyOCDZ"
      },
      "execution_count": null,
      "outputs": []
    },
    {
      "cell_type": "markdown",
      "source": [
        "**Is there any difference between the two outputs Groupby and Pivot?**"
      ],
      "metadata": {
        "id": "czZY3nxRPXDD"
      }
    },
    {
      "cell_type": "code",
      "source": [
        "#Gropuby : Output Format\tSeries (Hierarchical Index)\tPivot: DataFrame (Cross-tabulated)\n",
        "#Gropuby :Best Used For\t1D summary of grouped data\t\tPivot: 2D structured summary for easy comparison"
      ],
      "metadata": {
        "id": "GSaJiJDzPGPD"
      },
      "execution_count": null,
      "outputs": []
    },
    {
      "cell_type": "markdown",
      "source": [
        "# ** Activity 6: Handling Missing Values in Pivot Tables\n",
        "**\n",
        "\n",
        "---\n",
        "\n"
      ],
      "metadata": {
        "id": "x51x7nrsL2He"
      }
    },
    {
      "cell_type": "code",
      "source": [
        "# Activity 6: Handling Missing Values in Pivot Tables\n",
        "\n",
        "# Pivot table with fill_value\n",
        "fare_pivot_filled = titanic_df.pivot_table(index='Pclass', columns='Embarked', values='Fare',\n",
        "                                               aggfunc='mean', fill_value=0)\n",
        "print(fare_pivot_filled)\n",
        "\n",
        "\n"
      ],
      "metadata": {
        "id": "qKLU_pUML_Rb"
      },
      "execution_count": null,
      "outputs": []
    },
    {
      "cell_type": "markdown",
      "source": [
        "# ** Activity 7: Multi-Level Grouping and Pivot Tables\n",
        "**\n",
        "\n",
        "---\n",
        "\n"
      ],
      "metadata": {
        "id": "uQlDl8rfL748"
      }
    },
    {
      "cell_type": "code",
      "source": [
        "# Activity 7: Cross-Tabulation for Categorical Analysis\n",
        "\n",
        "# Survival by gender and class (cross-tab)\n",
        "survival_crosstab = pd.crosstab(titanic_df['Sex'], titanic_df['Pclass'],\n",
        "                                     values=titanic_df['Survived'], aggfunc='mean')\n",
        "print(survival_crosstab)\n",
        "\n",
        "\n",
        "#aggfunc=\"mean\" means that the function is calculating the average survival rate\n",
        "#for each combination of Sex and Pclass.\n",
        "\n"
      ],
      "metadata": {
        "id": "FjWvIg3WMVAQ"
      },
      "execution_count": null,
      "outputs": []
    },
    {
      "cell_type": "markdown",
      "source": [
        "**Interpretation of the output**\n",
        "\n",
        "97% of first-class females survived, while only 13% of third-class males survived.\n",
        "This shows a clear survival advantage for women and first-class passengers."
      ],
      "metadata": {
        "id": "QNIy8SeeRF4C"
      }
    },
    {
      "cell_type": "code",
      "source": [
        "# prompt: generate a heatmap based on the last code\n",
        "\n",
        "import pandas as pd\n",
        "import matplotlib.pyplot as plt\n",
        "import seaborn as sns\n",
        "\n",
        "# Assuming 'titanic_df' is your DataFrame from the previous code\n",
        "# If not, load your data here:\n",
        "# titanic_df = pd.read_csv(\"your_file.csv\")\n",
        "\n",
        "# Example: Heatmap of survival rate by passenger class and sex\n",
        "survival_heatmap = titanic_df.pivot_table(index='Pclass', columns='Sex', values='Survived', aggfunc='mean')\n",
        "\n",
        "plt.figure(figsize=(8, 6))  # Adjust figure size as needed\n",
        "sns.heatmap(survival_heatmap, annot=True, cmap='viridis', fmt=\".2f\") # annot=True displays values\n",
        "plt.title('Survival Rate by Passenger Class and Sex')\n",
        "plt.xlabel('Sex')\n",
        "plt.ylabel('Passenger Class')\n",
        "plt.show()\n",
        "\n",
        "\n"
      ],
      "metadata": {
        "id": "hBEgSONkRYT8"
      },
      "execution_count": null,
      "outputs": []
    },
    {
      "cell_type": "code",
      "source": [
        "\n",
        "# Example 2: Heatmap of Fare by Embarked and Pclass\n",
        "fare_heatmap = titanic_df.pivot_table(index='Embarked', columns='Pclass', values='Fare', aggfunc='mean')\n",
        "\n",
        "plt.figure(figsize=(8, 6))\n",
        "sns.heatmap(fare_heatmap, annot=True, cmap='YlGnBu', fmt=\".2f\")\n",
        "plt.title('Average Fare by Embarked and Pclass')\n",
        "plt.xlabel('Passenger Class')\n",
        "plt.ylabel('Embarked')\n",
        "plt.show()"
      ],
      "metadata": {
        "id": "GUZL_1i3SY88"
      },
      "execution_count": null,
      "outputs": []
    },
    {
      "cell_type": "code",
      "source": [
        "#interpret the last heatmap\n",
        "\n",
        "#The above  heatmap shows the average fare paid by passengers based on their port of embarkation (Embarked) and passenger class (Pclass).  The color intensity represents the average fare, with darker shades indicating higher average fares.\n",
        "\n",
        "For example:\n",
        "\n",
        "# Passengers who embarked at Cherbourg (C)** generally paid higher fares, especially in first class.\n",
        "#Passengers in first class (Pclass = 1)** paid the highest average fares regardless of the port of embarkation.\n",
        "#Passengers in third class (Pclass = 3)** paid the lowest average fares across all ports.\n",
        "\n",
        "#The heatmap provides a visual summary of how fare amounts vary across these two categorical variables, allowing for quick identification of trends and patterns.\n"
      ],
      "metadata": {
        "id": "O5yIJ4-CSoDB"
      },
      "execution_count": null,
      "outputs": []
    },
    {
      "cell_type": "code",
      "source": [
        "# Percentage-based cross-tabulation\n",
        "survival_crosstab_percent = pd.crosstab(titanic_df['Sex'], titanic_df['Pclass'],\n",
        "                                           values=titanic_df['Survived'], aggfunc='mean', normalize='index') * 100\n",
        "print(survival_crosstab_percent)\n",
        "\n",
        "#normalize='index' converts the values into percentages within each row,\n",
        "#making it easier to compare survival rates across passenger classes for each gender.\n",
        "#It scales the values so that each row sums to 100%, meaning it shows the distribution\n",
        "#of survival rates within each gender."
      ],
      "metadata": {
        "id": "8EEZh6zHQcIB"
      },
      "execution_count": null,
      "outputs": []
    },
    {
      "cell_type": "markdown",
      "source": [
        "# ** Activity 8: Multi-Level Grouping and Pivot Tables\n",
        "**\n",
        "\n",
        "---\n",
        "\n"
      ],
      "metadata": {
        "id": "K_CfeYFPMY2j"
      }
    },
    {
      "cell_type": "code",
      "source": [
        "# Activity 8: Top Survivors and Similar Analysis\n",
        "\n",
        "# Top survivors by age\n",
        "top_survivors_age = titanic_df[titanic_df['Survived'] == 1].sort_values('Age', ascending=False).head(10)\n",
        "print(top_survivors_age[['Name', 'Age', 'Sex', 'Pclass']])\n",
        "\n"
      ],
      "metadata": {
        "id": "tCF44RvQMbiL"
      },
      "execution_count": null,
      "outputs": []
    },
    {
      "cell_type": "code",
      "source": [
        "# Survival rate by family size\n",
        "titanic_df['FamilySize'] = titanic_df['SibSp'] + titanic_df['Parch'] + 1\n",
        "survival_by_family = titanic_df.groupby('FamilySize')['Survived'].mean()\n",
        "print(survival_by_family)\n",
        "\n",
        "import matplotlib.pyplot as plt\n",
        "import seaborn as sns\n",
        "\n"
      ],
      "metadata": {
        "id": "gCSBbt0fT7qH"
      },
      "execution_count": null,
      "outputs": []
    },
    {
      "cell_type": "code",
      "source": [
        "# Calculate survival rate by passenger class\n",
        "survival_rate_by_class = titanic_df.groupby('Pclass')['Survived'].mean()\n",
        "\n",
        "# Create a bar chart\n",
        "plt.figure(figsize=(8, 6))\n",
        "sns.barplot(x=survival_rate_by_class.index, y=survival_rate_by_class.values)\n",
        "plt.title('Survival Rate by Passenger Class')\n",
        "plt.xlabel('Passenger Class')\n",
        "plt.ylabel('Survival Rate')\n",
        "plt.xticks(survival_rate_by_class.index, ['1st Class', '2nd Class', '3rd Class'])  # Customize x-axis labels\n",
        "plt.show()\n",
        "\n",
        "# Conclusion\n",
        "\n",
        "# Recap: We explored the Titanic dataset, handled missing values, performed groupby\n",
        "# operations, used pivot tables, and analyzed survival patterns based on various factors.\n",
        "\n",
        "# Discussion: The analysis revealed insights into the demographics of survivors and\n",
        "# the factors that influenced survival, such as gender, passenger class, and family size.\n",
        "\n",
        "# Further Exploration: Students can further explore the dataset by creating visualizations,\n",
        "# investigating other factors related to survival, and applying more advanced analytical techniques."
      ],
      "metadata": {
        "id": "ChVbhYPZUBon"
      },
      "execution_count": null,
      "outputs": []
    },
    {
      "cell_type": "code",
      "source": [
        "\n",
        "print(\"\\nLab Completed Successfully!\")\n"
      ],
      "metadata": {
        "id": "devWZeeXUkFf"
      },
      "execution_count": null,
      "outputs": []
    },
    {
      "cell_type": "markdown",
      "source": [
        "# **Activity 9: Exporting Data and Saving a new file**"
      ],
      "metadata": {
        "id": "QZN4famjnKri"
      }
    },
    {
      "cell_type": "code",
      "source": [
        "#Save the cleaned dataset to a new CSV file.\n",
        "df.to_csv(\"Cleaned_StudentAdmission_data.csv\", index=False)\n",
        "#Important: This command will create a new data set that would appear on left handside\n",
        "# You can download that file for your record."
      ],
      "metadata": {
        "id": "q4vNnHm2niVL"
      },
      "execution_count": null,
      "outputs": []
    },
    {
      "cell_type": "code",
      "source": [
        "# !pip install --upgrade visions --use-deprecated=legacy-resolver\n",
        "#!pip uninstall pandas-profiling -y\n",
        "!pip install visions==0.7.6 --use-deprecated=legacy-resolver\n",
        "\n",
        "!pip install --upgrade numba --use-deprecated=legacy-resolver\n",
        "# !pip install --upgrade pandas-profiling --use-deprecated=legacy-resolver\n",
        "!pip install ydata-profiling --use-deprecated=legacy-resolver\n",
        "\n"
      ],
      "metadata": {
        "id": "I23eYdNanolf"
      },
      "execution_count": null,
      "outputs": []
    },
    {
      "cell_type": "code",
      "source": [
        "from ydata_profiling import ProfileReport\n",
        "\n",
        "profile = ProfileReport(df, title=\"Pandas Profiling Report\") #df is your dataframe\n",
        "profile.to_notebook_iframe() #To show the report inline in the notebook\n",
        "#profile.to_file(\"your_report.html\") #To save the report as an HTML file\n"
      ],
      "metadata": {
        "id": "wI_p-3tMy0SA"
      },
      "execution_count": null,
      "outputs": []
    },
    {
      "cell_type": "markdown",
      "source": [
        "### **Home Work**"
      ],
      "metadata": {
        "id": "bYCm3A4uWC_c"
      }
    },
    {
      "cell_type": "code",
      "source": [
        "\n",
        "\n",
        "# Homework Activities: Titanic Dataset Analysis\n",
        "\n",
        "# Instructions: Use the Titanic dataset (Titanic-Dataset.csv) to complete the following activities.\n",
        "# You should use groupby, pivot_table, or similar methods for analysis.\n",
        "\n",
        "# Activity 1: Survival Rate by Embarkation Point and Gender\n",
        "# Calculate and display the survival rate for each combination of embarkation point (Embarked) and gender (Sex).\n",
        "\n",
        "# Activity 2: Average Fare by Passenger Class and Age Group\n",
        "# Create age groups (e.g., 0-10, 11-20, 21-30, etc.).\n",
        "# Calculate and display the average fare for each passenger class (Pclass) within each age group.\n",
        "\n",
        "# Activity 3: Survival Rate by Family Size and Passenger Class\n",
        "# Create a new column called 'FamilySize' representing the total size of each family (SibSp + Parch + 1).\n",
        "# Analyze the survival rate for each passenger class (Pclass) grouped by family size.\n",
        "\n",
        "# Activity 4: Visualizing Survival Rate by Age and Passenger Class\n",
        "# Create a visualization (e.g., a heatmap) showing the survival rate for different age groups (as in Activity 2) and passenger classes.\n",
        "\n",
        "# Activity 5:  Advanced Pivot Table Analysis: Survival Rate, Fare, and Age\n",
        "# Construct a pivot table that simultaneously presents:\n",
        "#   - The average survival rate\n",
        "#   - The median fare\n",
        "#   - The average age\n",
        "# Grouped by 'Pclass' and 'Sex'.\n",
        "# Handle potential missing values in the pivot table.\n",
        "\n",
        "# Bonus Activity: Investigate the relationship between survival rate, fare, and age, considering both gender and passenger class. Visualize your findings effectively.\n",
        "\n",
        "# Dataset path (replace with your actual path)\n",
        "file_path = \"/content/Titanic-Dataset.csv\"\n",
        "titanic_df = pd.read_csv(file_path)\n",
        "\n"
      ],
      "metadata": {
        "id": "rCj5NiCXVZbl"
      },
      "execution_count": null,
      "outputs": []
    }
  ]
}