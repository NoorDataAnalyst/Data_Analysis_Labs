{
  "nbformat": 4,
  "nbformat_minor": 0,
  "metadata": {
    "colab": {
      "provenance": [],
      "toc_visible": true
    },
    "kernelspec": {
      "name": "python3",
      "display_name": "Python 3"
    },
    "language_info": {
      "name": "python"
    }
  },
  "cells": [
    {
      "cell_type": "code",
      "execution_count": null,
      "metadata": {
        "id": "GV-kaL0flbVr"
      },
      "outputs": [],
      "source": [
        "# Week 3 Lab Activities - Data Analysis with Python\n",
        "\n",
        "import pandas as pd\n",
        "import numpy as np\n",
        "import seaborn as sns\n",
        "import matplotlib.pyplot as plt\n",
        "from scipy.stats import zscore\n",
        "from scipy.stats.mstats import winsorize\n",
        "\n"
      ]
    },
    {
      "cell_type": "markdown",
      "source": [
        "# **Activity 1: Loading and inspecting data**\n",
        "\n",
        "---\n",
        "\n"
      ],
      "metadata": {
        "id": "qFvQxCdq_I_a"
      }
    },
    {
      "cell_type": "code",
      "source": [
        "\n",
        "# Load the dataset\n",
        "file_path = 'student_admission_record_dirty.csv'\n",
        "df = pd.read_csv(file_path)\n",
        "# You can also use the command\n",
        "#df = pd.read_csv('student_admission_record_dirty.csv')\n"
      ],
      "metadata": {
        "id": "NJzSypAGyqR0"
      },
      "execution_count": null,
      "outputs": []
    },
    {
      "cell_type": "code",
      "source": [
        "#Print the first 6 rows to inspect the data\n",
        "\n"
      ],
      "metadata": {
        "id": "2p4Zc9w04tLm"
      },
      "execution_count": null,
      "outputs": []
    },
    {
      "cell_type": "code",
      "source": [
        "#Now Describe the Data\n"
      ],
      "metadata": {
        "id": "8X3Xmui66Fmr"
      },
      "execution_count": null,
      "outputs": []
    },
    {
      "cell_type": "markdown",
      "source": [
        "**Question: Why the above descrive outpt shows only three columns**"
      ],
      "metadata": {
        "id": "8m8hhIpb9PXL"
      }
    },
    {
      "cell_type": "code",
      "source": [
        "#Question: Why it is not showing the data for all variables\n",
        "#Wirte your answer here\n",
        "\n",
        "#To get some more statistical functions, import stat\n",
        "from os import stat\n",
        "\n",
        "\n"
      ],
      "metadata": {
        "id": "e8Cf9CVA9OIZ"
      },
      "execution_count": null,
      "outputs": []
    },
    {
      "cell_type": "code",
      "source": [
        "#Now get the summary statistics for all columns:\n",
        "df.describe(include='all')\n"
      ],
      "metadata": {
        "id": "W1jvxADR-Xg9"
      },
      "execution_count": null,
      "outputs": []
    },
    {
      "cell_type": "markdown",
      "source": [
        "**Now compare the above three tables. What do you learn about describe() , describe(include=[\"object\"] and descrive(include=\"all\")**"
      ],
      "metadata": {
        "id": "Eel0PNsd-m_B"
      }
    },
    {
      "cell_type": "code",
      "source": [
        "#similar to include=\"object\", you can also use exclude=\"object\"\n",
        "df.describe(exclude=\"object\")"
      ],
      "metadata": {
        "id": "dZOk0DOg_h9i"
      },
      "execution_count": null,
      "outputs": []
    },
    {
      "cell_type": "markdown",
      "source": [
        "# **Activity 2: Identifying Missing Values**\n",
        "\n",
        "---\n",
        "\n"
      ],
      "metadata": {
        "id": "mkEYuuN0AqhT"
      }
    },
    {
      "cell_type": "code",
      "source": [
        "# You have already learnt to identify total missing values in each column\n",
        "# Recall what you learnt earlier and identify missing values in each column\n",
        "\n"
      ],
      "metadata": {
        "id": "YyAQhfz-yxMY"
      },
      "execution_count": null,
      "outputs": []
    },
    {
      "cell_type": "markdown",
      "source": [
        "**Is there any heading describing the output above? If no, we need to provide heading**"
      ],
      "metadata": {
        "id": "MGnyXJD2BgyH"
      }
    },
    {
      "cell_type": "code",
      "source": [
        "#So we are adding a code before the df.isna command\n",
        "print(\"Missing Values Count:\")\n",
        "#Here write the command you stated in the last code cell.\n",
        "#Now re-run it\n",
        "\n",
        "# Why is this command \"print(\"Missing Values Count:\")\" before the next one?\n",
        "#This is inorder to provide heading to the data\n"
      ],
      "metadata": {
        "id": "lMv5DXfrBotH"
      },
      "execution_count": null,
      "outputs": []
    },
    {
      "cell_type": "code",
      "source": [
        "# Visualize missing data\n",
        "import missingno as msno\n",
        "msno.matrix(df)\n",
        "plt.show()\n",
        "\n"
      ],
      "metadata": {
        "id": "WKg6umDbzZ_0"
      },
      "execution_count": null,
      "outputs": []
    },
    {
      "cell_type": "code",
      "source": [
        "# Drop missing values from only \"Age\" column\n",
        "\n",
        "# Wirte code here to drp missing calues from Age column\n",
        "#Then print below command\n",
        "print(\"Before:\", df.shape, \"After:\", df_cleaned.shape)\n"
      ],
      "metadata": {
        "id": "ePB9iTXIkIMk"
      },
      "execution_count": null,
      "outputs": []
    },
    {
      "cell_type": "code",
      "source": [
        "#Droping missing values from all columns\n",
        "df_cleaned = df.dropna()\n",
        "print(\"Before:\", df.shape, \"After:\", df_cleaned.shape)\n"
      ],
      "metadata": {
        "id": "DmTq_8RsEexP"
      },
      "execution_count": null,
      "outputs": []
    },
    {
      "cell_type": "code",
      "source": [
        "# Fill missing values with mean, median, or mode for each column\n",
        "# Fill missing values with the column's mean for numerical columns and mode for categorical columns\n",
        "for col in df.columns:\n",
        "    if pd.api.types.is_numeric_dtype(df[col]):\n",
        "        #Fill with mean if numerical\n",
        "        df[col].fillna(df[col].mean(), inplace=True)\n",
        "    else:\n",
        "        # Fill with mode if categorical\n",
        "        df[col].fillna(df[col].mode()[0], inplace=True)\n",
        "# The primary goal of this code (loop) is to handle missing values (represented as NaN - Not a Number)\n",
        "#within a Pandas DataFrame (df) in a way that is appropriate for different types of data.\n",
        "# Specifically, it differentiates between numerical columns\n",
        "#and categorical (non-numerical) columns and fills the NaN values in each column appropriately.\n",
        "# Check if fillna was successful\n",
        "#Inplace=True Explnation: Most Pandas methods (like fillna) return a new Series (or DataFrame)\n",
        "#with the changes applied. The original object is left unchanged.\n",
        "#inplace=True modifies the Series directly, without creating a new copy.\n"
      ],
      "metadata": {
        "id": "Kt44Dm6I23Po"
      },
      "execution_count": null,
      "outputs": []
    },
    {
      "cell_type": "code",
      "source": [
        "#Now check if the missing values are filled\n",
        "print(df.isna().sum())\n"
      ],
      "metadata": {
        "id": "Y5w-iUPZJuTa"
      },
      "execution_count": null,
      "outputs": []
    },
    {
      "cell_type": "markdown",
      "source": [
        "# **Activity 3: Finding and Removing Duplicates**\n",
        "\n",
        "---\n",
        "\n"
      ],
      "metadata": {
        "id": "fIfwVopgR5n8"
      }
    },
    {
      "cell_type": "code",
      "source": [
        "\n",
        "## Activity 3: Finding and Removing Duplicates\n",
        "# Remove duplicates based on a specific column (e.g., 'Name')\n",
        "df_no_duplicates_column = df.drop_duplicates(subset=['Name'])\n",
        "print(\"Before:\", df.shape, \"After (based on Name):\", df_no_duplicates_column.shape)\n",
        "# Identify duplicate records\n",
        "print(\"Duplicate count:\", df.duplicated().sum())\n"
      ],
      "metadata": {
        "id": "25HKe7E53Bvk"
      },
      "execution_count": null,
      "outputs": []
    },
    {
      "cell_type": "code",
      "source": [
        "\n",
        "# Display duplicate rows\n",
        "print(df[df.duplicated()])\n",
        "\n"
      ],
      "metadata": {
        "id": "Srit9uQI3IbL"
      },
      "execution_count": null,
      "outputs": []
    },
    {
      "cell_type": "code",
      "source": [
        "# Remove duplicates\n",
        "df_no_duplicates = df.drop_duplicates()\n",
        "\n"
      ],
      "metadata": {
        "id": "rME8hivz3PQD"
      },
      "execution_count": null,
      "outputs": []
    },
    {
      "cell_type": "code",
      "source": [
        "# Check dataset before and after removing duplicates\n",
        "print(\"Before:\", df.shape, \"After:\", df_no_duplicates.shape)\n",
        "\n"
      ],
      "metadata": {
        "id": "McXDdhsE3U97"
      },
      "execution_count": null,
      "outputs": []
    },
    {
      "cell_type": "markdown",
      "source": [
        "# **Activity 4: Identifying Outliers**\n",
        "\n",
        "---\n",
        "\n"
      ],
      "metadata": {
        "id": "5nKG9udelts0"
      }
    },
    {
      "cell_type": "code",
      "source": [
        "## Activity 4: Identifying Outliers\n",
        "# Box plot for outliers\n",
        "plt.figure(figsize=(6, 4))\n",
        "sns.boxplot(x=df['Age'])  # Replace with actual numeric column\n",
        "plt.show()\n"
      ],
      "metadata": {
        "id": "CyHY_fOh3Yz_"
      },
      "execution_count": null,
      "outputs": []
    },
    {
      "cell_type": "code",
      "source": [
        "\n",
        "# Z-score method\n",
        "df['z_score'] = zscore(df['Age'])\n",
        "outliers = df[df['z_score'].abs() > 3]\n",
        "print(\"Outliers detected:\")\n",
        "print(outliers)\n",
        "\n",
        "#Emptry DataFrame that means no outliers detected\n"
      ],
      "metadata": {
        "id": "2friRr9D3cMa"
      },
      "execution_count": null,
      "outputs": []
    },
    {
      "cell_type": "code",
      "source": [
        "\n",
        "# IQR method\n",
        "Q1 = df['Age'].quantile(0.25)\n",
        "Q3 = df['Age'].quantile(0.75)\n",
        "IQR = Q3 - Q1\n",
        "lower_bound = Q1 - 1.5 * IQR\n",
        "upper_bound = Q3 + 1.5 * IQR\n",
        "outliers_iqr = df[(df['Age'] < lower_bound) | (df['Age'] > upper_bound)]\n",
        "print(\"Outliers detected using IQR:\")\n",
        "print(outliers_iqr)\n"
      ],
      "metadata": {
        "id": "4n0inl_u3fsg"
      },
      "execution_count": null,
      "outputs": []
    },
    {
      "cell_type": "markdown",
      "source": [
        "# **Activity 5: Handling the Outliers**\n",
        "\n",
        "---\n",
        "\n"
      ],
      "metadata": {
        "id": "ZN2PbZpil_lH"
      }
    },
    {
      "cell_type": "code",
      "source": [
        "\n",
        "## Activity 5: Handling Outliers\n",
        "# Cap extreme values at upper and lower bounds\n",
        "df_capped = df.copy()\n",
        "df_capped['Age'] = np.clip(df['Age'], lower_bound, upper_bound)\n",
        "print(\"Capped dataset:\")\n",
        "print(df_capped)\n",
        "\n"
      ],
      "metadata": {
        "id": "2J4M2ze13j56"
      },
      "execution_count": null,
      "outputs": []
    },
    {
      "cell_type": "code",
      "source": [
        "\n",
        "# Winsorization\n",
        "df['Winsorized'] = winsorize(df['Age'], limits=[0.05, 0.05])\n"
      ],
      "metadata": {
        "id": "lYrQ02gD3myw"
      },
      "execution_count": null,
      "outputs": []
    },
    {
      "cell_type": "markdown",
      "source": [
        "# **Activity 6: Exploring Data and Drawing Conclusions **\n",
        "\n",
        "---\n",
        "\n"
      ],
      "metadata": {
        "id": "tU4UoUNlm6Yy"
      }
    },
    {
      "cell_type": "code",
      "source": [
        "# Show the Rejected in \"Admission Status\" column who have more than 70 in High School Percentage\n",
        "\n",
        "rejected_high_percentage = df[(df['Admission Status'] == 'Rejected') & (df['High School Percentage'] > 70)]\n",
        "rejected_high_percentage\n"
      ],
      "metadata": {
        "id": "-pr2LHa_bJdM"
      },
      "execution_count": null,
      "outputs": []
    },
    {
      "source": [
        "# Graph of City-wise rejected applicants with high percentage\n",
        "\n",
        "from matplotlib import pyplot as plt\n",
        "import seaborn as sns\n",
        "rejected_high_percentage.groupby('City').size().plot(kind='barh', color=sns.palettes.mpl_palette('Dark2'))\n",
        "plt.gca().spines[['top', 'right',]].set_visible(False)"
      ],
      "cell_type": "code",
      "execution_count": null,
      "outputs": [],
      "metadata": {
        "id": "6RGVCSjKcfsg"
      }
    },
    {
      "cell_type": "markdown",
      "source": [
        "**Student Challenge:**\n",
        "1. Fetch the candidates accepted but have less than 60 % High School Average\n",
        "2. Fetch the students with more than 70 admission test score but got rejected"
      ],
      "metadata": {
        "id": "NaaUm4TbdFvL"
      }
    },
    {
      "cell_type": "code",
      "source": [
        "#1.Fetch the candidates accepted but have less than 60 % High School Average\n"
      ],
      "metadata": {
        "id": "yBIwz_44cO5J"
      },
      "execution_count": null,
      "outputs": []
    },
    {
      "cell_type": "code",
      "source": [
        "#Fetch the students with more than 70 admission test score but got rejected\n"
      ],
      "metadata": {
        "id": "ZiJhwqEldFNo"
      },
      "execution_count": null,
      "outputs": []
    },
    {
      "cell_type": "code",
      "source": [
        "# Fetch the students with more than 70 admission test score but got rejected\n",
        "\n",
        "# Fetch the students with more than 70 admission test score but got rejected\n",
        "rejected_high_score = df[(df['Admission_Test Score'] > 70) & (df['Admission Status'] == 'Rejected')]\n",
        "rejected_high_score\n"
      ],
      "metadata": {
        "id": "iqgsrROSehqS"
      },
      "execution_count": null,
      "outputs": []
    },
    {
      "source": [],
      "cell_type": "code",
      "execution_count": null,
      "outputs": [],
      "metadata": {
        "cellView": "form",
        "id": "dS2BJ6WofGkI"
      }
    },
    {
      "source": [
        "# Generate Admission_Test Score\n",
        "\n",
        "from matplotlib import pyplot as plt\n",
        "rejected_high_score['Admission_Test Score'].plot(kind='hist', bins=20, title='Admission_Test Score')\n",
        "plt.gca().spines[['top', 'right',]].set_visible(False)"
      ],
      "cell_type": "code",
      "execution_count": null,
      "outputs": [],
      "metadata": {
        "id": "JTHbyH4TfBYj"
      }
    },
    {
      "cell_type": "markdown",
      "source": [
        "# **    We will cover the plots in detail in the next sesssion. For now, look at the chart above and tell what is wrong with the admission test score data?**"
      ],
      "metadata": {
        "id": "jRp0Eb0JlPiR"
      }
    },
    {
      "cell_type": "markdown",
      "source": [
        "# **Activity 7: Exporting Data and Saving a new file**"
      ],
      "metadata": {
        "id": "QZN4famjnKri"
      }
    },
    {
      "cell_type": "code",
      "source": [
        "#Save the cleaned dataset to a new CSV file.\n",
        "df.to_csv(\"Cleaned_StudentAdmission_data.csv\", index=False)\n",
        "#Important: This command will create a new data set that would appear on left handside\n",
        "# You can download that file for your record."
      ],
      "metadata": {
        "id": "q4vNnHm2niVL"
      },
      "execution_count": null,
      "outputs": []
    },
    {
      "cell_type": "code",
      "source": [
        "# !pip install --upgrade visions --use-deprecated=legacy-resolver\n",
        "#!pip uninstall pandas-profiling -y\n",
        "!pip install visions==0.7.6 --use-deprecated=legacy-resolver\n",
        "\n",
        "!pip install --upgrade numba --use-deprecated=legacy-resolver\n",
        "# !pip install --upgrade pandas-profiling --use-deprecated=legacy-resolver\n",
        "!pip install ydata-profiling --use-deprecated=legacy-resolver\n",
        "\n"
      ],
      "metadata": {
        "id": "I23eYdNanolf"
      },
      "execution_count": null,
      "outputs": []
    },
    {
      "cell_type": "code",
      "source": [],
      "metadata": {
        "id": "fBeWasA6mzlS"
      },
      "execution_count": null,
      "outputs": []
    }
  ]
}